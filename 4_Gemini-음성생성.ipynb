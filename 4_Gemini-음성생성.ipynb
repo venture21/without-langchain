{
 "cells": [
  {
   "cell_type": "markdown",
   "id": "6bef7219",
   "metadata": {},
   "source": [
    "### 단일 화자 텍스트 음성 변환"
   ]
  },
  {
   "cell_type": "code",
   "execution_count": 2,
   "id": "4c8b0dc1",
   "metadata": {},
   "outputs": [
    {
     "name": "stderr",
     "output_type": "stream",
     "text": [
      "Both GOOGLE_API_KEY and GEMINI_API_KEY are set. Using GOOGLE_API_KEY.\n"
     ]
    }
   ],
   "source": [
    "from google import genai\n",
    "from google.genai import types\n",
    "import wave\n",
    "\n",
    "# Set up the wave file to save the output:\n",
    "def wave_file(filename, pcm, channels=1, rate=24000, sample_width=2):\n",
    "   with wave.open(filename, \"wb\") as wf:\n",
    "      wf.setnchannels(channels)\n",
    "      wf.setsampwidth(sample_width)\n",
    "      wf.setframerate(rate)\n",
    "      wf.writeframes(pcm)\n",
    "\n",
    "client = genai.Client()\n",
    "\n",
    "response = client.models.generate_content(\n",
    "   model=\"gemini-2.5-flash-preview-tts\",\n",
    "   #contents=\"Say cheerfully: Have a wonderful day!\",\n",
    "   contents=\"밝은 목소리로: 좋은 아침입니다!\",\n",
    "   config=types.GenerateContentConfig(\n",
    "      response_modalities=[\"AUDIO\"],\n",
    "      speech_config=types.SpeechConfig(\n",
    "         voice_config=types.VoiceConfig(\n",
    "            prebuilt_voice_config=types.PrebuiltVoiceConfig(\n",
    "               voice_name='Kore',\n",
    "            )\n",
    "         )\n",
    "      ),\n",
    "   )\n",
    ")\n",
    "\n",
    "data = response.candidates[0].content.parts[0].inline_data.data\n",
    "\n",
    "file_name='kor-good-morning.wav'\n",
    "wave_file(file_name, data) # Saves the file to current directory"
   ]
  },
  {
   "cell_type": "code",
   "execution_count": 3,
   "id": "91f39463",
   "metadata": {},
   "outputs": [
    {
     "name": "stderr",
     "output_type": "stream",
     "text": [
      "Both GOOGLE_API_KEY and GEMINI_API_KEY are set. Using GOOGLE_API_KEY.\n"
     ]
    }
   ],
   "source": [
    "contents_prompt=\"\"\" 뉴스 앵커가 다음 본문을 읽는다 : \"이제는 동남아 국가보다 한국이 더 더운 것 같다.\"\n",
    "태국 방콕 등지에서 10여 년간 살다가 지난해 한국에 들어온 직장인 박모 씨의 말이다. 박 씨는 \"20대 초반 한국에 살 때만 해도 여름이 이렇게 덥지는 않았던 것 같은데 올해는 밖에 나가기가 무서울 정도로 덥다\"고 덧붙였다.\n",
    "\"\"\"\n",
    "\n",
    "from google import genai\n",
    "from google.genai import types\n",
    "import wave\n",
    "\n",
    "# Set up the wave file to save the output:\n",
    "def wave_file(filename, pcm, channels=1, rate=24000, sample_width=2):\n",
    "   with wave.open(filename, \"wb\") as wf:\n",
    "      wf.setnchannels(channels)\n",
    "      wf.setsampwidth(sample_width)\n",
    "      wf.setframerate(rate)\n",
    "      wf.writeframes(pcm)\n",
    "\n",
    "client = genai.Client()\n",
    "\n",
    "response = client.models.generate_content(\n",
    "   model=\"gemini-2.5-flash-preview-tts\",\n",
    "   #contents=\"Say cheerfully: Have a wonderful day!\",\n",
    "   contents=contents_prompt,\n",
    "   config=types.GenerateContentConfig(\n",
    "      response_modalities=[\"AUDIO\"],\n",
    "      speech_config=types.SpeechConfig(\n",
    "         voice_config=types.VoiceConfig(\n",
    "            prebuilt_voice_config=types.PrebuiltVoiceConfig(\n",
    "               voice_name='Kore',\n",
    "            )\n",
    "         )\n",
    "      ),\n",
    "   )\n",
    ")\n",
    "\n",
    "data = response.candidates[0].content.parts[0].inline_data.data\n",
    "\n",
    "file_name='kor-weather-news.wav'\n",
    "wave_file(file_name, data) # Saves the file to current directory"
   ]
  },
  {
   "cell_type": "code",
   "execution_count": 4,
   "id": "dfc7b72c",
   "metadata": {},
   "outputs": [
    {
     "name": "stderr",
     "output_type": "stream",
     "text": [
      "Both GOOGLE_API_KEY and GEMINI_API_KEY are set. Using GOOGLE_API_KEY.\n"
     ]
    }
   ],
   "source": [
    "from google import genai\n",
    "from google.genai import types\n",
    "import wave\n",
    "\n",
    "# Set up the wave file to save the output:\n",
    "def wave_file(filename, pcm, channels=1, rate=24000, sample_width=2):\n",
    "   with wave.open(filename, \"wb\") as wf:\n",
    "      wf.setnchannels(channels)\n",
    "      wf.setsampwidth(sample_width)\n",
    "      wf.setframerate(rate)\n",
    "      wf.writeframes(pcm)\n",
    "\n",
    "client = genai.Client()\n",
    "\n",
    "prompt = \"\"\"TTS the following conversation between Joe and Jane:\n",
    "         Joe: How's it going today Jane?\n",
    "         Jane: Not too bad, how about you?\"\"\"\n",
    "\n",
    "response = client.models.generate_content(\n",
    "   model=\"gemini-2.5-flash-preview-tts\",\n",
    "   contents=prompt,\n",
    "   config=types.GenerateContentConfig(\n",
    "      response_modalities=[\"AUDIO\"],\n",
    "      speech_config=types.SpeechConfig(\n",
    "         multi_speaker_voice_config=types.MultiSpeakerVoiceConfig(\n",
    "            speaker_voice_configs=[\n",
    "               types.SpeakerVoiceConfig(\n",
    "                  speaker='Joe',\n",
    "                  voice_config=types.VoiceConfig(\n",
    "                     prebuilt_voice_config=types.PrebuiltVoiceConfig(\n",
    "                        voice_name='Kore',\n",
    "                     )\n",
    "                  )\n",
    "               ),\n",
    "               types.SpeakerVoiceConfig(\n",
    "                  speaker='Jane',\n",
    "                  voice_config=types.VoiceConfig(\n",
    "                     prebuilt_voice_config=types.PrebuiltVoiceConfig(\n",
    "                        voice_name='Puck',\n",
    "                     )\n",
    "                  )\n",
    "               ),\n",
    "            ]\n",
    "         )\n",
    "      )\n",
    "   )\n",
    ")\n",
    "\n",
    "data = response.candidates[0].content.parts[0].inline_data.data\n",
    "\n",
    "file_name='eng-greetings.wav'\n",
    "wave_file(file_name, data) # Saves the file to current directory"
   ]
  },
  {
   "cell_type": "code",
   "execution_count": null,
   "id": "f0503f4b",
   "metadata": {},
   "outputs": [],
   "source": []
  }
 ],
 "metadata": {
  "kernelspec": {
   "display_name": "without",
   "language": "python",
   "name": "python3"
  },
  "language_info": {
   "codemirror_mode": {
    "name": "ipython",
    "version": 3
   },
   "file_extension": ".py",
   "mimetype": "text/x-python",
   "name": "python",
   "nbconvert_exporter": "python",
   "pygments_lexer": "ipython3",
   "version": "3.11.13"
  }
 },
 "nbformat": 4,
 "nbformat_minor": 5
}
