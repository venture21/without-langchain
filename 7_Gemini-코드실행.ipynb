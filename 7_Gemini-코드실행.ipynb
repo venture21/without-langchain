{
 "cells": [
  {
   "cell_type": "markdown",
   "id": "5b7c3a7a",
   "metadata": {},
   "source": [
    "### 코드 실행 사용 설정"
   ]
  },
  {
   "cell_type": "code",
   "execution_count": 2,
   "id": "66df6c6a",
   "metadata": {},
   "outputs": [
    {
     "name": "stderr",
     "output_type": "stream",
     "text": [
      "Both GOOGLE_API_KEY and GEMINI_API_KEY are set. Using GOOGLE_API_KEY.\n"
     ]
    },
    {
     "name": "stdout",
     "output_type": "stream",
     "text": [
      "1부터 100까지의 합을 계산하는 Python 코드를 생성하고 실행하겠습니다.\n",
      "\n",
      "### 계산 코드\n",
      "\n",
      "1부터 100까지의 합을 계산하는 Python 코드입니다.\n",
      "\n",
      "\n",
      "```python\n",
      "# sum_1_to_100.py\n",
      "total_sum = 0\n",
      "for i in range(1, 101):\n",
      "    total_sum += i\n",
      "print(f\"1부터 100까지의 합: {total_sum}\")\n",
      "```\n",
      "\n",
      "\n",
      "### 코드 실행 및 결과 확인\n",
      "\n",
      "이제 위 코드를 실행하여 1부터 100까지의 합을 계산하고, 그 결과를 확인해 보겠습니다.\n",
      "\n",
      "\n",
      "total_sum = 0\n",
      "for i in range(1, 101):\n",
      "    total_sum += i\n",
      "print(f\"1부터 100까지의 합: {total_sum}\")\n",
      "\n",
      "1부터 100까지의 합: 5050\n",
      "\n",
      "1부터 100까지의 합은 `5050`으로 올바르게 계산되었습니다. 이는 등차수열의 합 공식 `n * (n + 1) / 2` (여기서 n=100)을 사용했을 때 `100 * (100 + 1) / 2 = 100 * 101 / 2 = 50 * 101 = 5050`과 일치합니다.\n"
     ]
    }
   ],
   "source": [
    "from google import genai\n",
    "from google.genai import types\n",
    "\n",
    "client = genai.Client()\n",
    "\n",
    "response = client.models.generate_content(\n",
    "    model=\"gemini-2.5-flash\",\n",
    "    contents=\"1-100까지의 합은 얼마일까?\"\n",
    "    \"계산을 위한 코드를 생성하고 파이썬 코드의 내용을 출력해줘. 그리고 코드를 실행하고, 올바르게 계산했는지 확인하세요\",\n",
    "    config=types.GenerateContentConfig(\n",
    "        tools=[types.Tool(code_execution=types.ToolCodeExecution)]\n",
    "    ),\n",
    ")\n",
    "\n",
    "for part in response.candidates[0].content.parts:\n",
    "    if part.text is not None:\n",
    "        print(part.text)\n",
    "    if part.executable_code is not None:\n",
    "        print(part.executable_code.code)\n",
    "    if part.code_execution_result is not None:\n",
    "        print(part.code_execution_result.output)"
   ]
  },
  {
   "cell_type": "code",
   "execution_count": null,
   "id": "9989ea77",
   "metadata": {},
   "outputs": [],
   "source": []
  }
 ],
 "metadata": {
  "kernelspec": {
   "display_name": "without",
   "language": "python",
   "name": "python3"
  },
  "language_info": {
   "codemirror_mode": {
    "name": "ipython",
    "version": 3
   },
   "file_extension": ".py",
   "mimetype": "text/x-python",
   "name": "python",
   "nbconvert_exporter": "python",
   "pygments_lexer": "ipython3",
   "version": "3.11.13"
  }
 },
 "nbformat": 4,
 "nbformat_minor": 5
}
