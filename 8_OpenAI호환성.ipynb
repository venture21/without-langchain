{
 "cells": [
  {
   "cell_type": "markdown",
   "id": "84f7fcb6",
   "metadata": {},
   "source": [
    "### OpenAI QuickStart Example"
   ]
  },
  {
   "cell_type": "code",
   "execution_count": null,
   "id": "37a04353",
   "metadata": {},
   "outputs": [],
   "source": [
    "from openai import OpenAI\n",
    "\n",
    "# Initialize the OpenAI client\n",
    "# Make sure to set your OpenAI API key in the environment variable OPENAI_API_KEY\n",
    "client = OpenAI()\n",
    "\n",
    "response = client.chat.completions.create(\n",
    "    model=\"gpt-4o-mini\",\n",
    "    messages=[\n",
    "        {\n",
    "            \"role\": \"user\",\n",
    "            \"content\": \"유니콘에 대한 한 문장짜리 잠자리 이야기 작성해 주세요.\",\n",
    "        }\n",
    "    ],\n",
    ")\n",
    "\n",
    "print(response.choices[0].message.content)"
   ]
  },
  {
   "cell_type": "markdown",
   "id": "14a98e97",
   "metadata": {},
   "source": [
    "### OpenAI 호환성"
   ]
  },
  {
   "cell_type": "code",
   "execution_count": 4,
   "id": "42ec005b",
   "metadata": {},
   "outputs": [],
   "source": [
    "import os\n",
    "\n",
    "api_key = os.getenv(\"GOOGLE_API_KEY\")"
   ]
  },
  {
   "cell_type": "code",
   "execution_count": null,
   "id": "72c8f135",
   "metadata": {},
   "outputs": [
    {
     "name": "stdout",
     "output_type": "stream",
     "text": [
      "ChatCompletionMessage(content='That\\'s a fantastic question, and one that many people are curious about! At its core, AI isn\\'t magic, but rather a set of **computer programs and algorithms designed to simulate human-like intelligence.**\\n\\nLet\\'s break down the \"how\" into a few key components:\\n\\n### The Core Idea: Learning from Data\\n\\nImagine you want to teach a child to identify a \"cat.\" You wouldn\\'t just give them a definition. Instead, you\\'d show them hundreds, maybe thousands, of pictures of cats (and non-cats), pointing and saying \"cat\" when it\\'s a cat. Eventually, the child learns to recognize patterns (fur, whiskers, ears, etc.) and can correctly identify a cat they\\'ve never seen before.\\n\\nAI works in a very similar way, but on a much larger scale and with mathematical precision.\\n\\n### Key Ingredients of How AI Works:\\n\\n1.  **Data: The Fuel for Learning**\\n    *   **What it is:** AI models learn from vast amounts of data. This data can be anything: images, text, audio recordings, numbers, sensor readings, videos, etc.\\n    *   **Why it\\'s crucial:** Just like a child needs many examples to learn, an AI needs massive datasets to identify patterns, relationships, and features. The quality and quantity of data directly impact the AI\\'s performance.\\n    *   **Example:** For an AI that recognizes spam emails, the data would be millions of emails labeled as \"spam\" or \"not spam.\"\\n\\n2.  **Algorithms/Models: The Brain of the AI**\\n    *   **What it is:** These are the sophisticated mathematical rules and procedures that the AI uses to process the data and learn from it. Think of them as the \"recipe\" or \"blueprint\" for how the AI will analyze information and make decisions.\\n    *   **Why it\\'s crucial:** Different algorithms are designed for different types of problems (e.g., classifying images, predicting stock prices, generating text). The algorithm defines how the AI will look for patterns, make connections, and draw conclusions.\\n    *   **Example:** A common type of algorithm is a \"Neural Network,\" which is inspired by the human brain\\'s structure, with interconnected \"neurons\" that process information in layers.\\n\\n3.  **Training: The Learning Process**\\n    *   **What it is:** This is where the AI \"learns\" from the data using its algorithms. During training, the AI is fed the data, and it tries to find patterns or make predictions based on what it\\'s given.\\n    *   **How it works:**\\n        *   **Initial Guess:** The AI starts with some random \"knowledge\" or parameters.\\n        *   **Prediction/Action:** It makes a prediction or performs an action based on its current knowledge.\\n        *   **Feedback/Correction:** It compares its prediction/action to the correct answer (if available in the data). If it\\'s wrong, the algorithm adjusts its internal parameters slightly, like a student correcting their mistakes.\\n        *   **Iteration:** This process repeats millions or billions of times with different pieces of data.\\n    *   **Goal:** The goal of training is to optimize the model\\'s parameters so it can make accurate predictions or decisions on *new, unseen* data.\\n    *   **Example:** An image recognition AI trains on thousands of cat pictures. It might initially misidentify a dog as a cat. The system tells it \"No, that\\'s a dog,\" and the AI subtly adjusts its internal weights and biases to improve its future recognition.\\n\\n4.  **Prediction/Decision/Action: The Output**\\n    *   **What it is:** After training, the AI is deployed to perform its intended task. When presented with new, unseen data, it uses the patterns it learned during training to make a prediction, classify something, or take an action.\\n    *   **Example:**\\n        *   **Prediction:** Recommending a movie you might like (Netflix).\\n        *   **Classification:** Identifying if an email is spam or not (Gmail).\\n        *   **Generation:** Writing an essay or poem (ChatGPT).\\n        *   **Action:** Steering a car to avoid an obstacle (Self-driving cars).\\n\\n### Types of Learning (Simplified):\\n\\n*   **Supervised Learning:** The most common. The AI learns from *labeled* data (e.g., \"this is a picture of a dog,\" \"this email is spam\"). It\\'s like learning with a teacher.\\n*   **Unsupervised Learning:** The AI looks for patterns and structures in *unlabeled* data on its own (e.g., grouping similar customer behaviors, finding clusters in data). It\\'s like exploring without a teacher.\\n*   **Reinforcement Learning:** The AI learns by trial and error, receiving \"rewards\" for good actions and \"penalties\" for bad ones, trying to maximize its cumulative reward (e.g., teaching a robot to walk, playing a video game). It\\'s like learning through experience.\\n\\n### Important Clarification: AI vs. Human Intelligence\\n\\nIt\\'s crucial to understand that current AI **does not \"think\" or \"understand\" in the human sense.** It doesn\\'t have consciousness, emotions, or genuine comprehension. It\\'s incredibly good at:\\n*   Identifying complex patterns in data.\\n*   Performing calculations and logical operations at immense speed.\\n*   Making predictions based on statistical probabilities.\\n\\nWhen an AI \"understands\" your question, it\\'s actually processing the words as data, mapping them to patterns it learned during training, and generating a statistically probable response that aligns with those patterns.\\n\\nIn essence, AI works by:\\n**Data + Algorithms + Training = Pattern Recognition, Prediction, and Automated Decision-Making.**', refusal=None, role='assistant', annotations=None, audio=None, function_call=None, tool_calls=None)\n"
     ]
    }
   ],
   "source": [
    "from openai import OpenAI\n",
    "\n",
    "client = OpenAI(\n",
    "    api_key=api_key, base_url=\"https://generativelanguage.googleapis.com/v1beta/openai/\"\n",
    ")\n",
    "\n",
    "response = client.chat.completions.create(\n",
    "    model=\"gemini-2.5-flash\",\n",
    "    messages=[\n",
    "        {\"role\": \"system\", \"content\": \"You are a helpful assistant.\"},\n",
    "        {\"role\": \"user\", \"content\": \"Explain to me how AI works\"},\n",
    "    ],\n",
    ")\n",
    "\n",
    "print(response.choices[0].message)"
   ]
  },
  {
   "cell_type": "code",
   "execution_count": null,
   "id": "4fa4af57",
   "metadata": {},
   "outputs": [],
   "source": []
  }
 ],
 "metadata": {
  "kernelspec": {
   "display_name": "without",
   "language": "python",
   "name": "python3"
  },
  "language_info": {
   "codemirror_mode": {
    "name": "ipython",
    "version": 3
   },
   "file_extension": ".py",
   "mimetype": "text/x-python",
   "name": "python",
   "nbconvert_exporter": "python",
   "pygments_lexer": "ipython3",
   "version": "3.11.13"
  }
 },
 "nbformat": 4,
 "nbformat_minor": 5
}
