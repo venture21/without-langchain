{
 "cells": [
  {
   "cell_type": "markdown",
   "id": "c9d66591",
   "metadata": {},
   "source": [
    "참고 링크1 : https://ai.google.dev/gemini-api/docs/models?hl=ko <br>\n",
    "참고 링크2 : https://googleapis.github.io/python-genai/"
   ]
  },
  {
   "cell_type": "code",
   "execution_count": null,
   "id": "24b1271f",
   "metadata": {},
   "outputs": [],
   "source": [
    "#!pip install google-genai python-dotenv"
   ]
  },
  {
   "cell_type": "code",
   "execution_count": 7,
   "id": "3bdd57db",
   "metadata": {},
   "outputs": [
    {
     "data": {
      "text/plain": [
       "True"
      ]
     },
     "execution_count": 7,
     "metadata": {},
     "output_type": "execute_result"
    }
   ],
   "source": [
    "from dotenv import load_dotenv\n",
    "\n",
    "# .env 파일 로드\n",
    "load_dotenv()"
   ]
  },
  {
   "cell_type": "markdown",
   "id": "8b5839c8",
   "metadata": {},
   "source": [
    "### 텍스트 생성"
   ]
  },
  {
   "cell_type": "code",
   "execution_count": 9,
   "id": "79213a3d",
   "metadata": {},
   "outputs": [],
   "source": [
    "import os\n",
    "\n",
    "api_key = os.getenv(\"GOOGLE_API_KEY\")"
   ]
  },
  {
   "cell_type": "markdown",
   "id": "796d87e7",
   "metadata": {},
   "source": [
    "**genai.Client** : https://googleapis.github.io/python-genai/genai.html#module-genai.client"
   ]
  },
  {
   "cell_type": "code",
   "execution_count": 11,
   "id": "094be557",
   "metadata": {},
   "outputs": [
    {
     "name": "stderr",
     "output_type": "stream",
     "text": [
      "Both GOOGLE_API_KEY and GEMINI_API_KEY are set. Using GOOGLE_API_KEY.\n"
     ]
    },
    {
     "name": "stdout",
     "output_type": "stream",
     "text": [
      "대한민국의 수도는 **서울**입니다.\n"
     ]
    }
   ],
   "source": [
    "from google import genai\n",
    "\n",
    "# import google.generativeai as genai\n",
    "\n",
    "# 클라이언트 인스턴스 생성\n",
    "client = genai.Client(api_key=api_key)\n",
    "\n",
    "# 모델을 지정하고 컨텐츠의 답변을 요청\n",
    "response = client.models.generate_content(\n",
    "    # vertexai=False,\n",
    "    model=\"gemini-2.5-flash\",\n",
    "    contents=\"대한민국의 수도는 어디인가요?\",\n",
    ")\n",
    "print(response.text)"
   ]
  },
  {
   "cell_type": "markdown",
   "id": "943c4f72",
   "metadata": {},
   "source": [
    "### 시스템 안내 및 기타 구성"
   ]
  },
  {
   "cell_type": "code",
   "execution_count": 3,
   "id": "bf7854b4",
   "metadata": {},
   "outputs": [
    {
     "name": "stdout",
     "output_type": "stream",
     "text": [
      "야옹! 😽\n"
     ]
    }
   ],
   "source": [
    "from google import genai\n",
    "from google.genai import types\n",
    "\n",
    "client = genai.Client()\n",
    "\n",
    "# Google Gemini 모델과 직접 상호작용하여 콘텐츠를 생성하는 데 사용되는 핵심 함수\n",
    "response = client.models.generate_content(\n",
    "    model=\"gemini-2.5-flash\",\n",
    "    config=types.GenerateContentConfig(\n",
    "        # 시스템 인스트럭션\n",
    "        system_instruction=\"당신은 고양이이고, 이름은 야옹이입니다.\"\n",
    "    ),\n",
    "    contents=\"안녕\",\n",
    ")\n",
    "\n",
    "print(response.text)"
   ]
  },
  {
   "cell_type": "markdown",
   "id": "70d9d8b6",
   "metadata": {},
   "source": [
    "### GenerateContentConfig : temperature 설정"
   ]
  },
  {
   "cell_type": "code",
   "execution_count": null,
   "id": "0fc6ddec",
   "metadata": {},
   "outputs": [],
   "source": [
    "from google import genai\n",
    "from google.genai import types\n",
    "\n",
    "client = genai.Client()\n",
    "\n",
    "response = client.models.generate_content(\n",
    "    model=\"gemini-2.5-flash\",\n",
    "    contents=[\"Explain how AI works\"],\n",
    "    config=types.GenerateContentConfig(temperature=0.1),\n",
    ")\n",
    "print(response.text)"
   ]
  },
  {
   "cell_type": "markdown",
   "id": "85b8bd47",
   "metadata": {},
   "source": [
    "### 멀티모달 입력"
   ]
  },
  {
   "cell_type": "code",
   "execution_count": 21,
   "id": "78c9b196",
   "metadata": {},
   "outputs": [],
   "source": [
    "# from PIL import Image\n",
    "# from google import genai\n",
    "\n",
    "# client = genai.Client()\n",
    "\n",
    "# image = Image.open(\"organ.jpg\")\n",
    "# response = client.models.generate_content(\n",
    "#     model=\"gemini-2.5-flash\",\n",
    "#     contents=[image, \"Tell me about this instrument\"]\n",
    "# )\n",
    "# print(response.text)"
   ]
  },
  {
   "cell_type": "markdown",
   "id": "859b8bdd",
   "metadata": {},
   "source": [
    "위의 코드는 에러가 발생된다. 다음 페이지의 코드를 참조하기 바람 <br>\n",
    "https://ai.google.dev/gemini-api/docs/image-understanding?hl=ko"
   ]
  },
  {
   "cell_type": "code",
   "execution_count": 24,
   "id": "c228a813",
   "metadata": {},
   "outputs": [
    {
     "name": "stdout",
     "output_type": "stream",
     "text": [
      "=== 응답 ===\n",
      "이 악기는 바로 **오르간(Organ)**입니다.\n",
      "\n",
      "오르간은 \"건반 악기의 왕\"이라고 불릴 만큼 웅장하고 풍부한 음색을 자랑하는 악기입니다. 사진에 보이는 부분은 오르간 연주를 위한 **콘솔(console)** 부분입니다.\n",
      "\n",
      "오르간의 주요 특징과 구성 요소는 다음과 같습니다:\n",
      "\n",
      "1.  **여러 층의 건반 (매뉴얼, Manuals):**\n",
      "    *   사진에서도 보시다시피, 일반 피아노 건반처럼 생긴 부분이 여러 층으로 겹쳐져 있습니다. 이 각각의 건반 층을 '매뉴얼'이라고 부르며, 보통 2단, 3단 또는 그 이상으로 구성됩니다. 각 매뉴얼은 독립적인 음색 그룹(악구)을 제어하여 다양한 소리를 동시에 낼 수 있게 해줍니다.\n",
      "\n",
      "2.  **페달 건반 (Pedalboard):**\n",
      "    *   악기 하단에 발로 연주하는 큰 건반들이 일렬로 놓여 있습니다. 이 페달 건반은 주로 저음역대의 소리를 담당하여 오르간 음악의 웅장함을 더합니다. 연주자는 손과 발을 동시에 사용하여 연주해야 하므로 고도의 숙련도가 필요합니다.\n",
      "\n",
      "3.  **스톱 (Stops/레지스터):**\n",
      "    *   건반 양쪽에 보이는 수많은 버튼이나 손잡이들을 '스톱' 또는 '레지스터'라고 합니다. 이 스톱들은 오르간의 다양한 음색(예: 플루트, 트럼펫, 현악기, 오보에 등)을 선택하고, 각 음색의 볼륨이나 울림 등을 조절하는 역할을 합니다. 스톱을 조합하여 무궁무진한 소리를 만들어낼 수 있습니다.\n",
      "\n",
      "4.  **표현 페달/발판 (Expression Pedals/Swell Pedals):**\n",
      "    *   페달 건반 위에 놓인 발판들은 주로 음량이나 음색의 강약을 조절하는 데 사용됩니다. 발로 밟아 악기의 '숨'을 조절하듯 소리의 다이내믹을 섬세하게 표현할 수 있습니다.\n",
      "\n",
      "5.  **소리 생성 원리:**\n",
      "    *   **파이프 오르간 (Pipe Organ):** 전통적인 오르간은 파이프에 공기를 불어넣어 소리를 냅니다. 사진에 보이는 콘솔은 복잡한 파이프 시스템과 연결되어 있으며, 파이프의 크기와 모양에 따라 다양한 음색이 생성됩니다.\n",
      "    *   **전자 오르간/디지털 오르간 (Electronic/Digital Organ):** 현대에는 파이프 없이 전자적으로 다양한 음색을 재현하는 오르간도 많습니다. 사진의 오르간이 파이프 오르간의 콘솔인지, 아니면 독립된 디지털 오르간인지는 이 사진만으로는 명확히 알기 어렵습니다.\n",
      "\n",
      "**주요 용도:**\n",
      "오르간은 주로 교회에서 예배 음악 연주에 사용되며, 클래식 음악 콘서트홀에서도 독주 악기나 오케스트라와의 협연 악기로 연주됩니다. 그 웅장함과 다양한 표현력으로 많은 사람들에게 사랑받는 악기입니다.\n",
      "\n",
      "=== 토큰 사용량 ===\n",
      "입력 토큰: 266\n",
      "출력 토큰: 712\n",
      "총 토큰: 2200\n"
     ]
    }
   ],
   "source": [
    "from google.genai import types\n",
    "\n",
    "# 이미지 파일을 읽어와서 바이너리 데이터로 변환\n",
    "with open(\"organ.jpg\", \"rb\") as f:\n",
    "    image_bytes = f.read()\n",
    "\n",
    "\n",
    "response = client.models.generate_content(\n",
    "    model=\"gemini-2.5-flash\",\n",
    "    contents=[\n",
    "        types.Part.from_bytes(\n",
    "            # 바이너리로 읽은 데이터를 첨부하기\n",
    "            data=image_bytes,\n",
    "            mime_type=\"image/jpeg\",\n",
    "        ),\n",
    "        \"이 악기에 대해 설명해줘\",\n",
    "    ],\n",
    ")\n",
    "\n",
    "print(\"=== 응답 ===\")\n",
    "print(response.text)\n",
    "print(\"\\n=== 토큰 사용량 ===\")\n",
    "print(f\"입력 토큰: {response.usage_metadata.prompt_token_count}\")\n",
    "print(f\"출력 토큰: {response.usage_metadata.candidates_token_count}\")\n",
    "print(f\"총 토큰: {response.usage_metadata.total_token_count}\")"
   ]
  },
  {
   "cell_type": "code",
   "execution_count": 25,
   "id": "b6975309",
   "metadata": {},
   "outputs": [
    {
     "name": "stderr",
     "output_type": "stream",
     "text": [
      "Both GOOGLE_API_KEY and GEMINI_API_KEY are set. Using GOOGLE_API_KEY.\n"
     ]
    },
    {
     "name": "stdout",
     "output_type": "stream",
     "text": [
      "이 악기는 **오르간(Organ)**입니다. 특히, 파이프 오르간의 연주자용 콘솔(Console) 부분을 보여줍니다. 오르간은 건반 악기이자 동시에 관악기의 원리를 사용하는 독특한 악기입니다. '악기의 제왕'이라 불릴 만큼 웅장하고 풍부한 소리를 자랑합니다.\n",
      "\n",
      "**주요 특징 및 구성 요소:**\n",
      "\n",
      "1.  **수동 건반 (Manuals):**\n",
      "    *   사진 중앙에 여러 단(일반적으로 2단에서 5단 이상)으로 쌓여 있는 것이 손으로 연주하는 건반입니다. 각 건반은 특정 음색 그룹(오르간 악보에서는 '디비전'이라고도 함)을 담당합니다.\n",
      "    *   사진에는 두 단의 수동 건반이 명확히 보입니다.\n",
      "\n",
      "2.  **페달 건반 (Pedalboard):**\n",
      "    *   하단에 발로 연주하는 거대한 건반입니다. 주로 저음부를 담당하며, 오르간 연주의 특징 중 하나인 손과 발의 독립적인 사용을 가능하게 합니다.\n",
      "\n",
      "3.  **스톱 (Stops):**\n",
      "    *   건반 양쪽에 있는 수많은 버튼이나 손잡이들이 '스톱'입니다. 이 스톱을 조작하여 파이프 오르간의 다양한 음색(예: 플루트 소리, 트럼펫 소리, 현악기 소리 등)을 선택하고 조합할 수 있습니다. 각 스톱은 특정 음고(Pitch, 예: 8', 4', 2' 등)를 가진 파이프 세트를 활성화시킵니다.\n",
      "\n",
      "4.  **표현 페달 (Expression Pedals / Swell Pedals):**\n",
      "    *   페달 건반 위쪽 중앙에 발로 조작하는 페달들이 보입니다. 이 페달들은 소리의 크기(음량)를 조절하는 역할을 합니다.\n",
      "\n",
      "**작동 원리 (파이프 오르간 기준):**\n",
      "오르간은 건반과 스톱을 조작하면 파이프를 통해 공기가 흘러나와 소리를 냅니다. 수백 개에서 수만 개에 이르는 다양한 크기, 모양, 재질의 파이프들이 각각 다른 음색과 음높이를 만들어냅니다. 스톱은 이 파이프들 중 어떤 그룹을 사용할지 선택하는 역할을 합니다.\n",
      "\n",
      "**소리의 특징 및 용도:**\n",
      "오르간은 작은 속삭임 같은 소리부터 건물 전체를 울리는 웅장하고 강력한 소리까지 매우 넓은 다이내믹 레인지를 가지고 있습니다. 주로 교회나 성당에서 종교 음악 연주에 사용되며, 콘서트홀에서는 클래식 음악, 심지어 극장에서는 무성 영화 반주용(극장 오르간)으로도 사용되었습니다.\n",
      "\n",
      "이 악기는 손과 발의 고도의 협응력을 요구하는 복잡하고 매력적인 악기입니다.\n"
     ]
    }
   ],
   "source": [
    "from PIL import Image\n",
    "from google import genai\n",
    "from google.genai import types\n",
    "import io\n",
    "\n",
    "client = genai.Client()\n",
    "\n",
    "image = Image.open(\"organ.jpg\")\n",
    "\n",
    "# Convert image to bytes\n",
    "img_byte_arr = io.BytesIO()\n",
    "image.save(img_byte_arr, format=\"JPEG\")\n",
    "img_byte_arr = img_byte_arr.getvalue()\n",
    "\n",
    "response = client.models.generate_content(\n",
    "    model=\"gemini-2.5-flash\",\n",
    "    contents=[\n",
    "        types.Content(\n",
    "            role=\"user\",\n",
    "            parts=[\n",
    "                types.Part(text=\"이 악기에 대해 설명해줘\"),\n",
    "                types.Part(\n",
    "                    inline_data=types.Blob(mime_type=\"image/jpeg\", data=img_byte_arr)\n",
    "                ),\n",
    "            ],\n",
    "        )\n",
    "    ],\n",
    ")\n",
    "print(response.text)"
   ]
  },
  {
   "cell_type": "markdown",
   "id": "0347d94e",
   "metadata": {},
   "source": [
    "### 스트리밍 응답\n",
    "\n",
    "더 원활한 상호작용을 위해 스트리밍을 사용하여 GenerateContentResponse 인스턴스를 생성되는 대로 **점진적으로 수신**하세요."
   ]
  },
  {
   "cell_type": "code",
   "execution_count": 27,
   "id": "456498c0",
   "metadata": {},
   "outputs": [
    {
     "name": "stderr",
     "output_type": "stream",
     "text": [
      "Both GOOGLE_API_KEY and GEMINI_API_KEY are set. Using GOOGLE_API_KEY.\n"
     ]
    },
    {
     "name": "stdout",
     "output_type": "stream",
     "text": [
      "인공지능(AI)은 컴퓨터가 인간의 지능적 작업을 모방하거나 수행하도록 설계된 기술입니다. 이는 학습, 문제 해결, 의사 결정 등 다양한 인지 능력을 포함하며, 데이터를 기반으로 스스로 발전합니다."
     ]
    }
   ],
   "source": [
    "from google import genai\n",
    "\n",
    "client = genai.Client()\n",
    "\n",
    "response = client.models.generate_content_stream(\n",
    "    model=\"gemini-2.5-flash\", contents=[\"인공지능에 대해 2문장으로 설명해줘\"]\n",
    ")\n",
    "for chunk in response:\n",
    "    print(chunk.text, end=\"\")"
   ]
  },
  {
   "cell_type": "markdown",
   "id": "20d85fd3",
   "metadata": {},
   "source": [
    "### 멀티턴 대화 (채팅)"
   ]
  },
  {
   "cell_type": "code",
   "execution_count": null,
   "id": "b5e0ea03",
   "metadata": {},
   "outputs": [
    {
     "name": "stderr",
     "output_type": "stream",
     "text": [
      "Both GOOGLE_API_KEY and GEMINI_API_KEY are set. Using GOOGLE_API_KEY.\n"
     ]
    },
    {
     "name": "stdout",
     "output_type": "stream",
     "text": [
      "두 마리의 사랑스러운 강아지와 함께하고 계시는군요! 🐶🐶 정말 든든하고 행복하시겠어요.\n",
      "\n",
      "혹시 강아지들 이름이나 품종은 어떻게 되나요? 궁금하네요!\n",
      "우리 집에 있는 강아지 두 마리의 발 수는 총 **8개**입니다. 🐾\n",
      "\n",
      "강아지 한 마리당 발이 4개씩 있으니까요!\n",
      "role - user: 나는 우리 집에 2마리 강아지가 있다.\n",
      "role - model: 두 마리의 사랑스러운 강아지와 함께하고 계시는군요! 🐶🐶 정말 든든하고 행복하시겠어요.\n",
      "\n",
      "혹시 강아지들 이름이나 품종은 어떻게 되나요? 궁금하네요!\n",
      "role - user: 그렇다면 우리집에 있는 동물의 발의 수는 어떻게 되는지 간단히 답해봐?\n",
      "role - model: 우리 집에 있는 강아지 두 마리의 발 수는 총 **8개**입니다. 🐾\n",
      "\n",
      "강아지 한 마리당 발이 4개씩 있으니까요!\n",
      "우리 집에 있는 강아지 두 마리의 발 수는 총 **8개**입니다. 🐾\n",
      "\n",
      "강아지 한 마리당 발이 4개씩 있으니까요!\n",
      "role - user: 나는 우리 집에 2마리 강아지가 있다.\n",
      "role - model: 두 마리의 사랑스러운 강아지와 함께하고 계시는군요! 🐶🐶 정말 든든하고 행복하시겠어요.\n",
      "\n",
      "혹시 강아지들 이름이나 품종은 어떻게 되나요? 궁금하네요!\n",
      "role - user: 그렇다면 우리집에 있는 동물의 발의 수는 어떻게 되는지 간단히 답해봐?\n",
      "role - model: 우리 집에 있는 강아지 두 마리의 발 수는 총 **8개**입니다. 🐾\n",
      "\n",
      "강아지 한 마리당 발이 4개씩 있으니까요!\n"
     ]
    }
   ],
   "source": [
    "from google import genai\n",
    "\n",
    "client = genai.Client()\n",
    "chat = client.chats.create(model=\"gemini-2.5-flash\")\n",
    "\n",
    "response = chat.send_message(\"나는 우리 집에 2마리 강아지가 있다.\")\n",
    "print(response.text)\n",
    "\n",
    "response = chat.send_message(\n",
    "    \"그렇다면 우리집에 있는 동물의 발의 수는 어떻게 되는지 간단히 답해봐?\"\n",
    ")\n",
    "print(response.text)\n",
    "\n",
    "for message in chat.get_history():\n",
    "    print(f\"role - {message.role}\", end=\": \")\n",
    "    print(message.parts[0].text)"
   ]
  },
  {
   "cell_type": "code",
   "execution_count": 32,
   "id": "ec678fe3",
   "metadata": {},
   "outputs": [
    {
     "data": {
      "text/plain": [
       "[UserContent(\n",
       "   parts=[\n",
       "     Part(\n",
       "       text='나는 우리 집에 2마리 강아지가 있다.'\n",
       "     ),\n",
       "   ],\n",
       "   role='user'\n",
       " ),\n",
       " Content(\n",
       "   parts=[\n",
       "     Part(\n",
       "       text=\"\"\"두 마리의 사랑스러운 강아지와 함께하고 계시는군요! 🐶🐶 정말 든든하고 행복하시겠어요.\n",
       " \n",
       " 혹시 강아지들 이름이나 품종은 어떻게 되나요? 궁금하네요!\"\"\"\n",
       "     ),\n",
       "   ],\n",
       "   role='model'\n",
       " ),\n",
       " UserContent(\n",
       "   parts=[\n",
       "     Part(\n",
       "       text='그렇다면 우리집에 있는 동물의 발의 수는 어떻게 되는지 간단히 답해봐?'\n",
       "     ),\n",
       "   ],\n",
       "   role='user'\n",
       " ),\n",
       " Content(\n",
       "   parts=[\n",
       "     Part(\n",
       "       text=\"\"\"우리 집에 있는 강아지 두 마리의 발 수는 총 **8개**입니다. 🐾\n",
       " \n",
       " 강아지 한 마리당 발이 4개씩 있으니까요!\"\"\"\n",
       "     ),\n",
       "   ],\n",
       "   role='model'\n",
       " )]"
      ]
     },
     "execution_count": 32,
     "metadata": {},
     "output_type": "execute_result"
    }
   ],
   "source": [
    "chat.get_history()"
   ]
  },
  {
   "cell_type": "code",
   "execution_count": null,
   "id": "931967d5",
   "metadata": {},
   "outputs": [],
   "source": []
  }
 ],
 "metadata": {
  "kernelspec": {
   "display_name": "without-langchain",
   "language": "python",
   "name": "python3"
  },
  "language_info": {
   "codemirror_mode": {
    "name": "ipython",
    "version": 3
   },
   "file_extension": ".py",
   "mimetype": "text/x-python",
   "name": "python",
   "nbconvert_exporter": "python",
   "pygments_lexer": "ipython3",
   "version": "3.11.13"
  }
 },
 "nbformat": 4,
 "nbformat_minor": 5
}
