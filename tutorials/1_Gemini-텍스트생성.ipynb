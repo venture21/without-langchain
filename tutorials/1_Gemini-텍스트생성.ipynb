{
 "cells": [
  {
   "cell_type": "markdown",
   "id": "c9d66591",
   "metadata": {},
   "source": [
    "참고 링크1 : https://ai.google.dev/gemini-api/docs/models?hl=ko <br>\n",
    "참고 링크2 : https://googleapis.github.io/python-genai/"
   ]
  },
  {
   "cell_type": "code",
   "execution_count": null,
   "id": "24b1271f",
   "metadata": {},
   "outputs": [
    {
     "name": "stdout",
     "output_type": "stream",
     "text": [
      "Requirement already satisfied: google-genai in c:\\users\\park0\\miniconda3\\envs\\without\\lib\\site-packages (1.29.0)\n",
      "Requirement already satisfied: python-dotenv in c:\\users\\park0\\miniconda3\\envs\\without\\lib\\site-packages (1.1.1)\n",
      "Requirement already satisfied: anyio<5.0.0,>=4.8.0 in c:\\users\\park0\\miniconda3\\envs\\without\\lib\\site-packages (from google-genai) (4.10.0)\n",
      "Requirement already satisfied: google-auth<3.0.0,>=2.14.1 in c:\\users\\park0\\miniconda3\\envs\\without\\lib\\site-packages (from google-genai) (2.40.3)\n",
      "Requirement already satisfied: httpx<1.0.0,>=0.28.1 in c:\\users\\park0\\miniconda3\\envs\\without\\lib\\site-packages (from google-genai) (0.28.1)\n",
      "Requirement already satisfied: pydantic<3.0.0,>=2.0.0 in c:\\users\\park0\\miniconda3\\envs\\without\\lib\\site-packages (from google-genai) (2.11.7)\n",
      "Requirement already satisfied: requests<3.0.0,>=2.28.1 in c:\\users\\park0\\miniconda3\\envs\\without\\lib\\site-packages (from google-genai) (2.32.4)\n",
      "Requirement already satisfied: tenacity<9.2.0,>=8.2.3 in c:\\users\\park0\\miniconda3\\envs\\without\\lib\\site-packages (from google-genai) (9.1.2)\n",
      "Requirement already satisfied: websockets<15.1.0,>=13.0.0 in c:\\users\\park0\\miniconda3\\envs\\without\\lib\\site-packages (from google-genai) (15.0.1)\n",
      "Requirement already satisfied: typing-extensions<5.0.0,>=4.11.0 in c:\\users\\park0\\miniconda3\\envs\\without\\lib\\site-packages (from google-genai) (4.14.1)\n",
      "Requirement already satisfied: idna>=2.8 in c:\\users\\park0\\miniconda3\\envs\\without\\lib\\site-packages (from anyio<5.0.0,>=4.8.0->google-genai) (3.10)\n",
      "Requirement already satisfied: sniffio>=1.1 in c:\\users\\park0\\miniconda3\\envs\\without\\lib\\site-packages (from anyio<5.0.0,>=4.8.0->google-genai) (1.3.1)\n",
      "Requirement already satisfied: cachetools<6.0,>=2.0.0 in c:\\users\\park0\\miniconda3\\envs\\without\\lib\\site-packages (from google-auth<3.0.0,>=2.14.1->google-genai) (5.5.2)\n",
      "Requirement already satisfied: pyasn1-modules>=0.2.1 in c:\\users\\park0\\miniconda3\\envs\\without\\lib\\site-packages (from google-auth<3.0.0,>=2.14.1->google-genai) (0.4.2)\n",
      "Requirement already satisfied: rsa<5,>=3.1.4 in c:\\users\\park0\\miniconda3\\envs\\without\\lib\\site-packages (from google-auth<3.0.0,>=2.14.1->google-genai) (4.9.1)\n",
      "Requirement already satisfied: certifi in c:\\users\\park0\\miniconda3\\envs\\without\\lib\\site-packages (from httpx<1.0.0,>=0.28.1->google-genai) (2025.8.3)\n",
      "Requirement already satisfied: httpcore==1.* in c:\\users\\park0\\miniconda3\\envs\\without\\lib\\site-packages (from httpx<1.0.0,>=0.28.1->google-genai) (1.0.9)\n",
      "Requirement already satisfied: h11>=0.16 in c:\\users\\park0\\miniconda3\\envs\\without\\lib\\site-packages (from httpcore==1.*->httpx<1.0.0,>=0.28.1->google-genai) (0.16.0)\n",
      "Requirement already satisfied: annotated-types>=0.6.0 in c:\\users\\park0\\miniconda3\\envs\\without\\lib\\site-packages (from pydantic<3.0.0,>=2.0.0->google-genai) (0.7.0)\n",
      "Requirement already satisfied: pydantic-core==2.33.2 in c:\\users\\park0\\miniconda3\\envs\\without\\lib\\site-packages (from pydantic<3.0.0,>=2.0.0->google-genai) (2.33.2)\n",
      "Requirement already satisfied: typing-inspection>=0.4.0 in c:\\users\\park0\\miniconda3\\envs\\without\\lib\\site-packages (from pydantic<3.0.0,>=2.0.0->google-genai) (0.4.1)\n",
      "Requirement already satisfied: charset_normalizer<4,>=2 in c:\\users\\park0\\miniconda3\\envs\\without\\lib\\site-packages (from requests<3.0.0,>=2.28.1->google-genai) (3.4.2)\n",
      "Requirement already satisfied: urllib3<3,>=1.21.1 in c:\\users\\park0\\miniconda3\\envs\\without\\lib\\site-packages (from requests<3.0.0,>=2.28.1->google-genai) (2.5.0)\n",
      "Requirement already satisfied: pyasn1>=0.1.3 in c:\\users\\park0\\miniconda3\\envs\\without\\lib\\site-packages (from rsa<5,>=3.1.4->google-auth<3.0.0,>=2.14.1->google-genai) (0.6.1)\n"
     ]
    }
   ],
   "source": [
    "!pip install google-genai python-dotenv"
   ]
  },
  {
   "cell_type": "code",
   "execution_count": 6,
   "id": "300fe486",
   "metadata": {},
   "outputs": [
    {
     "data": {
      "text/plain": [
       "True"
      ]
     },
     "execution_count": 6,
     "metadata": {},
     "output_type": "execute_result"
    }
   ],
   "source": [
    "#!pip install google-genai"
   ]
  },
  {
   "cell_type": "markdown",
   "id": "8b5839c8",
   "metadata": {},
   "source": [
    "### 텍스트 생성"
   ]
  },
  {
   "cell_type": "code",
   "execution_count": 9,
   "id": "79213a3d",
   "metadata": {},
   "outputs": [],
   "source": [
    "import os\n",
    "\n",
    "api_key = os.getenv(\"GOOGLE_API_KEY\")"
   ]
  },
  {
   "cell_type": "markdown",
   "id": "796d87e7",
   "metadata": {},
   "source": [
    "**genai.Client** : https://googleapis.github.io/python-genai/genai.html#module-genai.client"
   ]
  },
  {
   "cell_type": "code",
   "execution_count": 4,
   "id": "094be557",
   "metadata": {},
   "outputs": [
    {
     "name": "stderr",
     "output_type": "stream",
     "text": [
      "Both GOOGLE_API_KEY and GEMINI_API_KEY are set. Using GOOGLE_API_KEY.\n"
     ]
    },
    {
     "name": "stdout",
     "output_type": "stream",
     "text": [
      "대한민국의 수도는 **서울**입니다.\n"
     ]
    }
   ],
   "source": [
    "from google import genai\n",
    "\n",
    "# import google.generativeai as genai\n",
    "\n",
    "# 클라이언트 인스턴스 생성\n",
    "client = genai.Client(api_key=api_key)\n",
    "\n",
    "# 모델을 지정하고 컨텐츠의 답변을 요청\n",
    "response = client.models.generate_content(\n",
    "    # vertexai=False,\n",
    "    model=\"gemini-2.5-flash\",\n",
    "    contents=\"대한민국의 수도는 어디인가요?\",\n",
    ")\n",
    "print(response.text)"
   ]
  },
  {
   "cell_type": "code",
   "execution_count": 34,
   "id": "2d686c5d",
   "metadata": {},
   "outputs": [
    {
     "data": {
      "text/plain": [
       "GenerateContentResponse(\n",
       "  automatic_function_calling_history=[],\n",
       "  candidates=[\n",
       "    Candidate(\n",
       "      content=Content(\n",
       "        parts=[\n",
       "          Part(\n",
       "            text='대한민국의 수도는 **서울**입니다.'\n",
       "          ),\n",
       "        ],\n",
       "        role='model'\n",
       "      ),\n",
       "      finish_reason=<FinishReason.STOP: 'STOP'>,\n",
       "      index=0\n",
       "    ),\n",
       "  ],\n",
       "  model_version='gemini-2.5-flash',\n",
       "  response_id='oVWZaM2oLJS7qtsPt6TFwQs',\n",
       "  sdk_http_response=HttpResponse(\n",
       "    headers=<dict len=11>\n",
       "  ),\n",
       "  usage_metadata=GenerateContentResponseUsageMetadata(\n",
       "    candidates_token_count=10,\n",
       "    prompt_token_count=10,\n",
       "    prompt_tokens_details=[\n",
       "      ModalityTokenCount(\n",
       "        modality=<MediaModality.TEXT: 'TEXT'>,\n",
       "        token_count=10\n",
       "      ),\n",
       "    ],\n",
       "    thoughts_token_count=27,\n",
       "    total_token_count=47\n",
       "  )\n",
       ")"
      ]
     },
     "execution_count": 34,
     "metadata": {},
     "output_type": "execute_result"
    }
   ],
   "source": [
    "response"
   ]
  },
  {
   "cell_type": "code",
   "execution_count": 39,
   "id": "d16cc3b4",
   "metadata": {},
   "outputs": [
    {
     "data": {
      "text/plain": [
       "'대한민국의 수도는 **서울**입니다.'"
      ]
     },
     "execution_count": 39,
     "metadata": {},
     "output_type": "execute_result"
    }
   ],
   "source": [
    "# response.candidates[0].content.parts[0].text\n",
    "response.candidates[0].content.parts[0].text"
   ]
  },
  {
   "cell_type": "code",
   "execution_count": 46,
   "id": "a0918314",
   "metadata": {},
   "outputs": [
    {
     "data": {
      "text/plain": [
       "ModalityTokenCount(\n",
       "  modality=<MediaModality.TEXT: 'TEXT'>,\n",
       "  token_count=10\n",
       ")"
      ]
     },
     "execution_count": 46,
     "metadata": {},
     "output_type": "execute_result"
    }
   ],
   "source": [
    "response.usage_metadata"
   ]
  },
  {
   "cell_type": "code",
   "execution_count": 14,
   "id": "b6aea167",
   "metadata": {},
   "outputs": [
    {
     "name": "stdout",
     "output_type": "stream",
     "text": [
      "10\n",
      "27\n",
      "47\n"
     ]
    }
   ],
   "source": [
    "# 토큰 사용량 정보 출력\n",
    "\n",
    "# query 토큰 수\n",
    "print(response.usage_metadata.prompt_token_count)\n",
    "\n",
    "# throughts 토큰 수(생각하는 토큰 수)\n",
    "print(response.usage_metadata.thoughts_token_count)\n",
    "\n",
    "# query 토근수 + throughts 토큰 수 + 응답 토근 수\n",
    "print(response.usage_metadata.total_token_count)"
   ]
  },
  {
   "cell_type": "markdown",
   "id": "943c4f72",
   "metadata": {},
   "source": [
    "### 시스템 안내 및 기타 구성"
   ]
  },
  {
   "cell_type": "code",
   "execution_count": null,
   "id": "bf7854b4",
   "metadata": {},
   "outputs": [
    {
     "name": "stdout",
     "output_type": "stream",
     "text": [
      "야옹! 😼\n"
     ]
    }
   ],
   "source": [
    "from google import genai\n",
    "from google.genai import types\n",
    "\n",
    "client = genai.Client()\n",
    "\n",
    "# Google Gemini 모델과 직접 상호작용하여 콘텐츠를 생성하는 데 사용되는 핵심 함수\n",
    "response = client.models.generate_content(\n",
    "    model=\"gemini-2.5-flash\",\n",
    "    config=types.GenerateContentConfig(\n",
    "        # 시스템 인스트럭션\n",
    "        system_instruction=\"당신은 고양이이고, 이름은 야옹이입니다.\"\n",
    "    ),\n",
    "    contents=\"안녕\",\n",
    ")\n",
    "\n",
    "print(response.text)"
   ]
  },
  {
   "cell_type": "markdown",
   "id": "70d9d8b6",
   "metadata": {},
   "source": [
    "### GenerateContentConfig : temperature 설정"
   ]
  },
  {
   "cell_type": "code",
   "execution_count": 53,
   "id": "0fc6ddec",
   "metadata": {},
   "outputs": [
    {
     "name": "stderr",
     "output_type": "stream",
     "text": [
      "Both GOOGLE_API_KEY and GEMINI_API_KEY are set. Using GOOGLE_API_KEY.\n"
     ]
    },
    {
     "name": "stdout",
     "output_type": "stream",
     "text": [
      "AI는 방대한 데이터를 분석하여 숨겨진 패턴과 규칙을 학습합니다. 이 학습된 지식을 바탕으로 새로운 상황을 이해하고 예측하거나 문제를 해결합니다. 마치 사람처럼 경험을 통해 똑똑해지며, 주어진 목표를 달성하도록 설계됩니다.\n"
     ]
    }
   ],
   "source": [
    "from google import genai\n",
    "from google.genai import types\n",
    "\n",
    "client = genai.Client()\n",
    "\n",
    "response = client.models.generate_content(\n",
    "    model=\"gemini-2.5-flash\",\n",
    "    contents=[\"AI가 어떻게 동작하는지 3문장으로 설명줘.\"],\n",
    "    config=types.GenerateContentConfig(temperature=0.1),\n",
    ")\n",
    "print(response.text)"
   ]
  },
  {
   "cell_type": "markdown",
   "id": "85b8bd47",
   "metadata": {},
   "source": [
    "### 멀티모달 입력"
   ]
  },
  {
   "cell_type": "code",
   "execution_count": 21,
   "id": "78c9b196",
   "metadata": {},
   "outputs": [],
   "source": [
    "# from PIL import Image\n",
    "# from google import genai\n",
    "\n",
    "# client = genai.Client()\n",
    "\n",
    "# image = Image.open(\"organ.jpg\")\n",
    "# response = client.models.generate_content(\n",
    "#     model=\"gemini-2.5-flash\",\n",
    "#     contents=[image, \"Tell me about this instrument\"]\n",
    "# )\n",
    "# print(response.text)"
   ]
  },
  {
   "cell_type": "markdown",
   "id": "859b8bdd",
   "metadata": {},
   "source": [
    "위의 코드는 에러가 발생된다. 다음 페이지의 코드를 참조하기 바람 <br>\n",
    "https://ai.google.dev/gemini-api/docs/image-understanding?hl=ko"
   ]
  },
  {
   "cell_type": "code",
   "execution_count": 57,
   "id": "e169b75f",
   "metadata": {},
   "outputs": [
    {
     "data": {
      "text/plain": [
       "'c:\\\\Users\\\\park0\\\\github\\\\without-langchain\\\\tutorials'"
      ]
     },
     "execution_count": 57,
     "metadata": {},
     "output_type": "execute_result"
    }
   ],
   "source": [
    "import os\n",
    "\n",
    "# 현재 작업 디렉토리 경로를 가져옵니다.\n",
    "HOME = os.getcwd()\n",
    "HOME"
   ]
  },
  {
   "cell_type": "code",
   "execution_count": 59,
   "id": "c228a813",
   "metadata": {},
   "outputs": [
    {
     "name": "stdout",
     "output_type": "stream",
     "text": [
      "=== 응답 ===\n",
      "이 사진은 여러 단의 건반(매뉴얼), 페달 건반, 그리고 수많은 스톱(Stop) 손잡이가 있는 웅장하고 복잡한 파이프 오르간을 보여줍니다. 연주자는 이 스톱들을 조작하여 다양한 음색과 음량을 조절하며 풍부한 소리를 만들어냅니다. 특히 섬세하게 조각된 목재와 정교한 제어 장치들은 이 악기가 가진 뛰어난 장인정신과 방대한 음향적 가능성을 잘 보여줍니다.\n",
      "\n",
      "=== 토큰 사용량 ===\n",
      "입력 토큰: 271\n",
      "생각 토큰: 1114\n",
      "출력 토큰: 115\n",
      "총 토큰: 1500\n"
     ]
    }
   ],
   "source": [
    "from google.genai import types\n",
    "\n",
    "# 이미지 파일을 읽어와서 바이너리 데이터로 변환\n",
    "with open(\"../data/organ.jpg\", \"rb\") as f:\n",
    "    image_bytes = f.read()\n",
    "\n",
    "\n",
    "response = client.models.generate_content(\n",
    "    model=\"gemini-2.5-flash\",\n",
    "    contents=[\n",
    "        # 바이너리 타입의 이미지\n",
    "        types.Part.from_bytes(\n",
    "            # 바이너리로 읽은 데이터를 첨부하기\n",
    "            data=image_bytes,\n",
    "            mime_type=\"image/jpeg\",\n",
    "        ),\n",
    "        # text 타입의 프롬프트\n",
    "        \"이 악기에 대해 3문장으로 설명해줘\",\n",
    "    ],\n",
    ")\n",
    "\n",
    "print(\"=== 응답 ===\")\n",
    "print(response.text)\n",
    "print(\"\\n=== 토큰 사용량 ===\")\n",
    "print(f\"입력 토큰: {response.usage_metadata.prompt_token_count}\")\n",
    "print(f\"생각 토큰: {response.usage_metadata.thoughts_token_count}\")\n",
    "print(f\"출력 토큰: {response.usage_metadata.candidates_token_count}\")\n",
    "print(f\"총 토큰: {response.usage_metadata.total_token_count}\")"
   ]
  },
  {
   "cell_type": "code",
   "execution_count": null,
   "id": "b6975309",
   "metadata": {},
   "outputs": [
    {
     "name": "stderr",
     "output_type": "stream",
     "text": [
      "Both GOOGLE_API_KEY and GEMINI_API_KEY are set. Using GOOGLE_API_KEY.\n"
     ]
    },
    {
     "name": "stdout",
     "output_type": "stream",
     "text": [
      "이 악기는 **오르간(Organ)**입니다. 특히, 파이프 오르간의 연주자용 콘솔(Console) 부분을 보여줍니다. 오르간은 건반 악기이자 동시에 관악기의 원리를 사용하는 독특한 악기입니다. '악기의 제왕'이라 불릴 만큼 웅장하고 풍부한 소리를 자랑합니다.\n",
      "\n",
      "**주요 특징 및 구성 요소:**\n",
      "\n",
      "1.  **수동 건반 (Manuals):**\n",
      "    *   사진 중앙에 여러 단(일반적으로 2단에서 5단 이상)으로 쌓여 있는 것이 손으로 연주하는 건반입니다. 각 건반은 특정 음색 그룹(오르간 악보에서는 '디비전'이라고도 함)을 담당합니다.\n",
      "    *   사진에는 두 단의 수동 건반이 명확히 보입니다.\n",
      "\n",
      "2.  **페달 건반 (Pedalboard):**\n",
      "    *   하단에 발로 연주하는 거대한 건반입니다. 주로 저음부를 담당하며, 오르간 연주의 특징 중 하나인 손과 발의 독립적인 사용을 가능하게 합니다.\n",
      "\n",
      "3.  **스톱 (Stops):**\n",
      "    *   건반 양쪽에 있는 수많은 버튼이나 손잡이들이 '스톱'입니다. 이 스톱을 조작하여 파이프 오르간의 다양한 음색(예: 플루트 소리, 트럼펫 소리, 현악기 소리 등)을 선택하고 조합할 수 있습니다. 각 스톱은 특정 음고(Pitch, 예: 8', 4', 2' 등)를 가진 파이프 세트를 활성화시킵니다.\n",
      "\n",
      "4.  **표현 페달 (Expression Pedals / Swell Pedals):**\n",
      "    *   페달 건반 위쪽 중앙에 발로 조작하는 페달들이 보입니다. 이 페달들은 소리의 크기(음량)를 조절하는 역할을 합니다.\n",
      "\n",
      "**작동 원리 (파이프 오르간 기준):**\n",
      "오르간은 건반과 스톱을 조작하면 파이프를 통해 공기가 흘러나와 소리를 냅니다. 수백 개에서 수만 개에 이르는 다양한 크기, 모양, 재질의 파이프들이 각각 다른 음색과 음높이를 만들어냅니다. 스톱은 이 파이프들 중 어떤 그룹을 사용할지 선택하는 역할을 합니다.\n",
      "\n",
      "**소리의 특징 및 용도:**\n",
      "오르간은 작은 속삭임 같은 소리부터 건물 전체를 울리는 웅장하고 강력한 소리까지 매우 넓은 다이내믹 레인지를 가지고 있습니다. 주로 교회나 성당에서 종교 음악 연주에 사용되며, 콘서트홀에서는 클래식 음악, 심지어 극장에서는 무성 영화 반주용(극장 오르간)으로도 사용되었습니다.\n",
      "\n",
      "이 악기는 손과 발의 고도의 협응력을 요구하는 복잡하고 매력적인 악기입니다.\n"
     ]
    }
   ],
   "source": [
    "from PIL import Image\n",
    "from google import genai\n",
    "from google.genai import types\n",
    "import io\n",
    "\n",
    "client = genai.Client()\n",
    "\n",
    "image = Image.open(\"../data/organ.jpg\")\n",
    "\n",
    "# Convert image to bytes\n",
    "img_byte_arr = io.BytesIO()\n",
    "image.save(img_byte_arr, format=\"JPEG\")\n",
    "img_byte_arr = img_byte_arr.getvalue()\n",
    "\n",
    "response = client.models.generate_content(\n",
    "    model=\"gemini-2.5-flash\",\n",
    "    contents=[\n",
    "        types.Content(\n",
    "            role=\"user\",\n",
    "            parts=[\n",
    "                types.Part(text=\"이 악기에 대해 설명해줘\"),\n",
    "                types.Part(\n",
    "                    inline_data=types.Blob(mime_type=\"image/jpeg\", data=img_byte_arr)\n",
    "                ),\n",
    "            ],\n",
    "        )\n",
    "    ],\n",
    ")\n",
    "print(response.text)"
   ]
  },
  {
   "cell_type": "markdown",
   "id": "0347d94e",
   "metadata": {},
   "source": [
    "### 스트리밍 응답\n",
    "\n",
    "더 원활한 상호작용을 위해 스트리밍을 사용하여 GenerateContentResponse 인스턴스를 생성되는 대로 **점진적으로 수신**하세요."
   ]
  },
  {
   "cell_type": "code",
   "execution_count": 62,
   "id": "456498c0",
   "metadata": {},
   "outputs": [
    {
     "name": "stderr",
     "output_type": "stream",
     "text": [
      "Both GOOGLE_API_KEY and GEMINI_API_KEY are set. Using GOOGLE_API_KEY.\n"
     ]
    },
    {
     "name": "stdout",
     "output_type": "stream",
     "text": [
      "인공지능(AI)은 컴퓨터 시스템이 인간의 지능을 모방하도록 만드는 기술입니다.\n",
      "이는 학습, 문제 해결, 의사 결정, 그리고 언어 이해와 같은 능력을 포함합니다.\n",
      "AI는 주로 방대한 데이터를 분석하고 패턴을 학습하여 스스로 성능을 향상시킵니다.\n",
      "이러한 학습 과정을 통해 특정 작업을 수행하거나 예측을 할 수 있게 됩니다.\n",
      "크게 머신러닝, 딥러닝 등의 세부 분야로 나뉘며, 각기 다른 방식으로 지능을 구현합니다.\n",
      "현재 우리가 접하는 대부분의 AI는 특정 목적에 특화된 '약한 인공지능'입니다.\n",
      "예를 들어, 음성 인식 비서, 추천 시스템, 자율주행차가 대표적인 AI 활용 사례입니다.\n",
      "AI는 반복적인 작업을 자동화하고 복잡한 문제를 해결하며, 효율성을 크게 높이는 데 기여합니다.\n",
      "미래에는 의료, 교육, 환경 등 다양한 분야에서 혁신적인 변화를 가져올 잠재력을 가지고 있습니다.\n",
      "하지만 윤리적 문제, 데이터 편향, 일자리 변화 등 사회적 책임과 신중한 접근이 필요합니다."
     ]
    }
   ],
   "source": [
    "from google import genai\n",
    "\n",
    "client = genai.Client()\n",
    "\n",
    "response = client.models.generate_content_stream(\n",
    "    model=\"gemini-2.5-flash\", contents=[\"인공지능에 대해 10문장으로 설명해줘\"]\n",
    ")\n",
    "for chunk in response:\n",
    "    print(chunk.text, end=\"\")"
   ]
  },
  {
   "cell_type": "markdown",
   "id": "20d85fd3",
   "metadata": {},
   "source": [
    "### 멀티턴 대화 (채팅)"
   ]
  },
  {
   "cell_type": "code",
   "execution_count": 63,
   "id": "b5e0ea03",
   "metadata": {},
   "outputs": [
    {
     "name": "stderr",
     "output_type": "stream",
     "text": [
      "Both GOOGLE_API_KEY and GEMINI_API_KEY are set. Using GOOGLE_API_KEY.\n"
     ]
    },
    {
     "name": "stdout",
     "output_type": "stream",
     "text": [
      "와, 그러시군요! 강아지 두 마리와 함께 지내시면 정말 행복하시겠어요! 🐶🐶\n",
      "\n",
      "어떤 종류의 강아지들인가요? 이름은 무엇인지도 궁금하네요! 😊\n",
      "네, 그렇다면 우리 집에 있는 동물의 발은 총 **8개**입니다!\n",
      "\n",
      "(강아지 2마리 x 발 4개 = 8개) 😊\n",
      "role - user: 나는 우리 집에 2마리 강아지가 있다.\n",
      "role - model: 와, 그러시군요! 강아지 두 마리와 함께 지내시면 정말 행복하시겠어요! 🐶🐶\n",
      "\n",
      "어떤 종류의 강아지들인가요? 이름은 무엇인지도 궁금하네요! 😊\n",
      "role - user: 그렇다면 우리집에 있는 동물의 발의 수는 어떻게 되는지 간단히 답해봐?\n",
      "role - model: 네, 그렇다면 우리 집에 있는 동물의 발은 총 **8개**입니다!\n",
      "\n",
      "(강아지 2마리 x 발 4개 = 8개) 😊\n"
     ]
    }
   ],
   "source": [
    "from google import genai\n",
    "\n",
    "client = genai.Client()\n",
    "chat = client.chats.create(model=\"gemini-2.5-flash\")\n",
    "\n",
    "response = chat.send_message(\"나는 우리 집에 2마리 강아지가 있다.\")\n",
    "print(response.text)\n",
    "\n",
    "response = chat.send_message(\n",
    "    \"그렇다면 우리집에 있는 동물의 발의 수는 어떻게 되는지 간단히 답해봐?\"\n",
    ")\n",
    "print(response.text)\n",
    "\n",
    "for message in chat.get_history():\n",
    "    print(f\"role - {message.role}\", end=\": \")\n",
    "    print(message.parts[0].text)"
   ]
  },
  {
   "cell_type": "code",
   "execution_count": 32,
   "id": "ec678fe3",
   "metadata": {},
   "outputs": [
    {
     "data": {
      "text/plain": [
       "[UserContent(\n",
       "   parts=[\n",
       "     Part(\n",
       "       text='나는 우리 집에 2마리 강아지가 있다.'\n",
       "     ),\n",
       "   ],\n",
       "   role='user'\n",
       " ),\n",
       " Content(\n",
       "   parts=[\n",
       "     Part(\n",
       "       text=\"\"\"두 마리의 사랑스러운 강아지와 함께하고 계시는군요! 🐶🐶 정말 든든하고 행복하시겠어요.\n",
       " \n",
       " 혹시 강아지들 이름이나 품종은 어떻게 되나요? 궁금하네요!\"\"\"\n",
       "     ),\n",
       "   ],\n",
       "   role='model'\n",
       " ),\n",
       " UserContent(\n",
       "   parts=[\n",
       "     Part(\n",
       "       text='그렇다면 우리집에 있는 동물의 발의 수는 어떻게 되는지 간단히 답해봐?'\n",
       "     ),\n",
       "   ],\n",
       "   role='user'\n",
       " ),\n",
       " Content(\n",
       "   parts=[\n",
       "     Part(\n",
       "       text=\"\"\"우리 집에 있는 강아지 두 마리의 발 수는 총 **8개**입니다. 🐾\n",
       " \n",
       " 강아지 한 마리당 발이 4개씩 있으니까요!\"\"\"\n",
       "     ),\n",
       "   ],\n",
       "   role='model'\n",
       " )]"
      ]
     },
     "execution_count": 32,
     "metadata": {},
     "output_type": "execute_result"
    }
   ],
   "source": [
    "chat.get_history()"
   ]
  }
 ],
 "metadata": {
  "kernelspec": {
   "display_name": "without-langchain",
   "language": "python",
   "name": "python3"
  },
  "language_info": {
   "codemirror_mode": {
    "name": "ipython",
    "version": 3
   },
   "file_extension": ".py",
   "mimetype": "text/x-python",
   "name": "python",
   "nbconvert_exporter": "python",
   "pygments_lexer": "ipython3",
   "version": "3.11.13"
  }
 },
 "nbformat": 4,
 "nbformat_minor": 5
}
