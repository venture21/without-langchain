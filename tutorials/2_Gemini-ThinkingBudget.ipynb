{
 "cells": [
  {
   "cell_type": "markdown",
   "id": "e5c03759",
   "metadata": {},
   "source": [
    "### Gemini Thinking"
   ]
  },
  {
   "cell_type": "code",
   "execution_count": null,
   "id": "64ecc919",
   "metadata": {},
   "outputs": [
    {
     "name": "stderr",
     "output_type": "stream",
     "text": [
      "Both GOOGLE_API_KEY and GEMINI_API_KEY are set. Using GOOGLE_API_KEY.\n"
     ]
    },
    {
     "name": "stdout",
     "output_type": "stream",
     "text": [
      "네, 세계적으로 가장 유명하고 영향력 있는 물리학자 세 명과 그들의 주요 업적을 소개해 드리겠습니다. 이 세 명은 물리학의 역사를 바꾼 인물들입니다.\n",
      "\n",
      "### 1. 아이작 뉴턴 (Isaac Newton, 1643-1727)\n",
      "\n",
      "**\"고전 물리학의 아버지\"**\n",
      "\n",
      "뉴턴은 현대 과학의 기초를 세운 인물로 평가받습니다. 그의 발견은 이후 수백 년간 과학계를 지배했습니다.\n",
      "\n",
      "*   **주요 업적:**\n",
      "    *   **만유인력의 법칙 (Law of Universal Gravitation):** 우주의 모든 물체는 서로를 끌어당기는 힘이 있으며, 이 힘은 두 물체의 질량에 비례하고 거리의 제곱에 반비례한다는 법칙입니다. 이 법칙으로 행성의 운동과 사과가 땅으로 떨어지는 현상을 통합하여 설명했습니다.\n",
      "    *   **운동의 3가지 법칙 (Newton's Laws of Motion):** 관성의 법칙, 가속도의 법칙(F=ma), 작용-반작용의 법칙을 통해 물체의 운동을 수학적으로 완벽하게 기술했습니다. 이는 고전 역학의 근간이 됩니다.\n",
      "    *   **미적분학 (Calculus):** 변화를 수학적으로 다루는 학문인 미적분학을 독자적으로 발전시켜, 물리학적 현상을 설명하는 강력한 도구를 만들었습니다.\n",
      "    *   **광학 연구:** 프리즘을 이용해 백색광이 여러 색의 스펙트럼으로 이루어져 있음을 증명하고, 빛의 입자설을 주장했습니다.\n",
      "\n",
      "### 2. 알베르트 아인슈타인 (Albert Einstein, 1879-1955)\n",
      "\n",
      "**\"현대 물리학의 상징\"**\n",
      "\n",
      "아인슈타인은 20세기 최고의 과학자로 불리며, 시간, 공간, 중력에 대한 우리의 이해를 완전히 뒤바꾸었습니다.\n",
      "\n",
      "*   **주요 업적:**\n",
      "    *   **특수 상대성 이론 (Special Theory of Relativity, 1905):** 시간과 공간이 관찰자의 속도에 따라 상대적으로 변한다는 이론입니다. 이 이론에서 세계에서 가장 유명한 공식인 **E=mc²**가 나왔는데, 이는 질량과 에너지가 등가임을 의미합니다.\n",
      "    *   **일반 상대성 이론 (General Theory of Relativity, 1915):** 중력을 시공간의 휘어짐으로 설명한 혁명적인 이론입니다. 질량이 큰 물체(태양 등)가 주변의 시공간을 휘게 만들고, 다른 물체들은 그 휘어진 시공간을 따라 움직이는 것이 바로 중력이라는 것입니다.\n",
      "    *   **광전 효과 (Photoelectric Effect):** 빛이 입자(광자)의 성질을 가지고 있음을 증명하여 양자역학의 발전에 결정적인 기여를 했습니다. 이 업적으로 1921년 노벨 물리학상을 수상했습니다.\n",
      "\n",
      "### 3. 마리 퀴리 (Marie Curie, 1867-1934)\n",
      "\n",
      "**\"방사능 연구의 선구자\"**\n",
      "\n",
      "마리 퀴리는 남성 중심의 과학계에서 뛰어난 업적을 남긴 위대한 과학자이며, 방사능 분야를 개척했습니다.\n",
      "\n",
      "*   **주요 업적:**\n",
      "    *   **방사능 (Radioactivity) 개념 정립:** 우라늄에서 나오는 신비한 광선을 연구하며, 원자 자체가 붕괴하며 에너지를 방출하는 현상을 '방사능'이라고 명명했습니다.\n",
      "    *   **새로운 방사성 원소 발견:** 남편 피에르 퀴리와 함께 연구하여 새로운 원소인 **폴로늄(Polonium)**과 **라듐(Radium)**을 발견했습니다. 이는 원소는 불변한다는 기존의 통념을 깨뜨린 위대한 발견이었습니다.\n",
      "    *   **노벨상 2회 수상:** 물리학(1903년)과 화학(1911년) 분야에서 모두 노벨상을 수상한 최초의 인물이자 유일한 여성입니다. 이는 그녀의 연구가 얼마나 중요한지를 보여줍니다.\n",
      "    *   **의료 분야 응용:** 제1차 세계대전 당시 이동식 X선 장치를 개발하여 부상병 치료에 기여하는 등 자신의 연구를 인류를 위해 사용했습니다.\n"
     ]
    }
   ],
   "source": [
    "from google import genai\n",
    "from google.genai import types\n",
    "\n",
    "client = genai.Client()\n",
    "\n",
    "response = client.models.generate_content(\n",
    "    model=\"gemini-2.5-pro\",\n",
    "    # contents=\"Provide a list of 3 famous physicists and their key contributions\",\n",
    "    contents=\"유명한 물리학자 세 명과 그들의 주요 업적을 알려주세요.\",\n",
    "    config=types.GenerateContentConfig(\n",
    "        thinking_config=types.ThinkingConfig(thinking_budget=1024)\n",
    "        # Turn off thinking:\n",
    "        # thinking_config=types.ThinkingConfig(thinking_budget=0)\n",
    "        # Turn on dynamic thinking:\n",
    "        # thinking_config=types.ThinkingConfig(thinking_budget=-1)\n",
    "    ),\n",
    ")\n",
    "\n",
    "print(response.text)"
   ]
  },
  {
   "cell_type": "code",
   "execution_count": null,
   "id": "ad8e615e",
   "metadata": {},
   "outputs": [
    {
     "name": "stderr",
     "output_type": "stream",
     "text": [
      "Both GOOGLE_API_KEY and GEMINI_API_KEY are set. Using GOOGLE_API_KEY.\n"
     ]
    },
    {
     "name": "stdout",
     "output_type": "stream",
     "text": [
      "네, 물론입니다. 역사상 가장 유명한 물리학자 세 명과 그들의 주요 업적을 소개해 드리겠습니다. 이들은 현대 물리학의 기틀을 마련한 인물들입니다.\n",
      "\n",
      "### 1. 아이작 뉴턴 (Isaac Newton, 1643-1727, 영국)\n",
      "\n",
      "**\"고전 물리학의 아버지\"**로 불리며, 그의 발견은 과학 혁명을 완성시켰다고 평가받습니다.\n",
      "\n",
      "*   **주요 업적:**\n",
      "    *   **만유인력의 법칙 (Law of Universal Gravitation):** 사과가 나무에서 떨어지는 것을 보고 영감을 얻었다는 일화로 유명합니다. 우주의 모든 물체가 서로를 끌어당기는 힘이 있다는 것을 수학적으로 증명했으며, 행성의 운동을 설명했습니다.\n",
      "    *   **운동의 3법칙 (Newton's Laws of Motion):** 관성의 법칙, 가속도의 법칙(F=ma), 작용-반작용의 법칙을 통해 물체의 운동을 체계적으로 설명했습니다. 이 법칙들은 현대 공학의 기초가 되었습니다.\n",
      "    *   **미적분학 발전 (Development of Calculus):** 행성의 궤도와 같은 복잡한 움직임을 계산하기 위해 미적분학을 체계화했습니다.\n",
      "    *   **광학 연구:** 빛이 단일한 색이 아니라 여러 색(스펙트럼)의 혼합체임을 프리즘 실험을 통해 증명했습니다.\n",
      "\n",
      "### 2. 알베르트 아인슈타인 (Albert Einstein, 1879-1955, 독일/미국)\n",
      "\n",
      "**\"현대 물리학의 상징\"**으로, 20세기 최고의 물리학자로 꼽힙니다. 그의 이론은 시간, 공간, 중력에 대한 우리의 이해를 완전히 바꾸었습니다.\n",
      "\n",
      "*   **주요 업적:**\n",
      "    *   **상대성 이론 (Theory of Relativity):**\n",
      "        *   **특수 상대성 이론 (1905):** 빛의 속도는 관찰자의 움직임과 관계없이 일정하며, 이로 인해 시간과 공간은 절대적인 것이 아니라 상대적이라는 개념을 제시했습니다.\n",
      "        *   **일반 상대성 이론 (1915):** 중력을 힘이 아니라 질량이 시공간을 휘게 만들기 때문에 발생하는 현상이라고 설명했습니다. 이 이론은 블랙홀의 존재와 중력 렌즈 효과 등을 예측했습니다.\n",
      "    *   **질량-에너지 등가 원리 (E=mc²):** 세계에서 가장 유명한 공식으로, 질량(m)이 엄청난 양의 에너지(E)로 변환될 수 있음을 보여주었습니다. 이는 원자력 발전과 핵무기의 이론적 기초가 되었습니다.\n",
      "    *   **광전 효과 규명 (Photoelectric Effect):** 빛이 입자(광자)의 성질을 가지고 있음을 설명하여 양자역학의 발전에 크게 기여했으며, 이 업적으로 1921년 노벨 물리학상을 수상했습니다.\n",
      "\n",
      "### 3. 마리 퀴리 (Marie Curie, 1867-1934, 폴란드/프랑스)\n",
      "\n",
      "**\"방사능 연구의 선구자\"**이자 역사상 가장 위대한 여성 과학자 중 한 명으로, 남성 중심의 과학계에서 놀라운 업적을 남겼습니다.\n",
      "\n",
      "*   **주요 업적:**\n",
      "    *   **방사능(Radioactivity) 연구:** '방사능'이라는 용어를 처음 만들었으며, 방사능이 원자 자체의 성질임을 밝혀냈습니다.\n",
      "    *   **새로운 원소 발견:** 남편 피에르 퀴리와 함께 방사성 원소인 **폴로늄(Polonium)**과 **라듐(Radium)**을 발견했습니다. 이는 원자핵 물리학의 새로운 시대를 열었습니다.\n",
      "    *   **노벨상 2회 수상:** 세계 최초로 노벨상을 두 번 수상했으며, 서로 다른 과학 분야(물리학상, 화학상)에서 수상한 유일한 인물입니다.\n",
      "        *   **1903년 노벨 물리학상:** 방사능 연구에 대한 공로 (피에르 퀴리, 앙리 베크렐과 공동 수상)\n",
      "        *   **1911년 노벨 화학상:** 폴로늄과 라듐 발견 및 순수 라듐 분리 공로\n",
      "\n",
      "이 세 과학자는 오늘날 우리가 아는 물리학의 기틀을 마련했으며, 그들의 발견은 여전히 우리 세상에 큰 영향을 미치고 있습니다.\n"
     ]
    }
   ],
   "source": [
    "from google import genai\n",
    "from google.genai import types\n",
    "\n",
    "client = genai.Client()\n",
    "\n",
    "response = client.models.generate_content(\n",
    "    model=\"gemini-2.5-pro\",\n",
    "    # contents=\"Provide a list of 3 famous physicists and their key contributions\",\n",
    "    contents=\"유명한 물리학자 세 명과 그들의 주요 업적을 알려주세요.\",\n",
    "    config=types.GenerateContentConfig(\n",
    "        thinking_config=types.ThinkingConfig(thinking_budget=-1)\n",
    "        # Turn off thinking:\n",
    "        # thinking_config=types.ThinkingConfig(thinking_budget=0)\n",
    "        # Turn on dynamic thinking:\n",
    "        # thinking_config=types.ThinkingConfig(thinking_budget=-1)\n",
    "    ),\n",
    ")\n",
    "\n",
    "print(response.text)"
   ]
  },
  {
   "cell_type": "code",
   "execution_count": 5,
   "id": "9335f6b3",
   "metadata": {},
   "outputs": [
    {
     "data": {
      "text/plain": [
       "GenerateContentResponse(\n",
       "  automatic_function_calling_history=[],\n",
       "  candidates=[\n",
       "    Candidate(\n",
       "      content=Content(\n",
       "        parts=[\n",
       "          Part(\n",
       "            text=\"\"\"네, 물론입니다. 역사상 가장 유명한 물리학자 세 명과 그들의 주요 업적을 소개해 드리겠습니다. 이들은 현대 물리학의 기틀을 마련한 인물들입니다.\n",
       "\n",
       "### 1. 아이작 뉴턴 (Isaac Newton, 1643-1727, 영국)\n",
       "\n",
       "**\"고전 물리학의 아버지\"**로 불리며, 그의 발견은 과학 혁명을 완성시켰다고 평가받습니다.\n",
       "\n",
       "*   **주요 업적:**\n",
       "    *   **만유인력의 법칙 (Law of Universal Gravitation):** 사과가 나무에서 떨어지는 것을 보고 영감을 얻었다는 일화로 유명합니다. 우주의 모든 물체가 서로를 끌어당기는 힘이 있다는 것을 수학적으로 증명했으며, 행성의 운동을 설명했습니다.\n",
       "    *   **운동의 3법칙 (Newton's Laws of Motion):** 관성의 법칙, 가속도의 법칙(F=ma), 작용-반작용의 법칙을 통해 물체의 운동을 체계적으로 설명했습니다. 이 법칙들은 현대 공학의 기초가 되었습니다.\n",
       "    *   **미적분학 발전 (Development of Calculus):** 행성의 궤도와 같은 복잡한 움직임을 계산하기 위해 미적분학을 체계화했습니다.\n",
       "    *   **광학 연구:** 빛이 단일한 색이 아니라 여러 색(스펙트럼)의 혼합체임을 프리즘 실험을 통해 증명했습니다.\n",
       "\n",
       "### 2. 알베르트 아인슈타인 (Albert Einstein, 1879-1955, 독일/미국)\n",
       "\n",
       "**\"현대 물리학의 상징\"**으로, 20세기 최고의 물리학자로 꼽힙니다. 그의 이론은 시간, 공간, 중력에 대한 우리의 이해를 완전히 바꾸었습니다.\n",
       "\n",
       "*   **주요 업적:**\n",
       "    *   **상대성 이론 (Theory of Relativity):**\n",
       "        *   **특수 상대성 이론 (1905):** 빛의 속도는 관찰자의 움직임과 관계없이 일정하며, 이로 인해 시간과 공간은 절대적인 것이 아니라 상대적이라는 개념을 제시했습니다.\n",
       "        *   **일반 상대성 이론 (1915):** 중력을 힘이 아니라 질량이 시공간을 휘게 만들기 때문에 발생하는 현상이라고 설명했습니다. 이 이론은 블랙홀의 존재와 중력 렌즈 효과 등을 예측했습니다.\n",
       "    *   **질량-에너지 등가 원리 (E=mc²):** 세계에서 가장 유명한 공식으로, 질량(m)이 엄청난 양의 에너지(E)로 변환될 수 있음을 보여주었습니다. 이는 원자력 발전과 핵무기의 이론적 기초가 되었습니다.\n",
       "    *   **광전 효과 규명 (Photoelectric Effect):** 빛이 입자(광자)의 성질을 가지고 있음을 설명하여 양자역학의 발전에 크게 기여했으며, 이 업적으로 1921년 노벨 물리학상을 수상했습니다.\n",
       "\n",
       "### 3. 마리 퀴리 (Marie Curie, 1867-1934, 폴란드/프랑스)\n",
       "\n",
       "**\"방사능 연구의 선구자\"**이자 역사상 가장 위대한 여성 과학자 중 한 명으로, 남성 중심의 과학계에서 놀라운 업적을 남겼습니다.\n",
       "\n",
       "*   **주요 업적:**\n",
       "    *   **방사능(Radioactivity) 연구:** '방사능'이라는 용어를 처음 만들었으며, 방사능이 원자 자체의 성질임을 밝혀냈습니다.\n",
       "    *   **새로운 원소 발견:** 남편 피에르 퀴리와 함께 방사성 원소인 **폴로늄(Polonium)**과 **라듐(Radium)**을 발견했습니다. 이는 원자핵 물리학의 새로운 시대를 열었습니다.\n",
       "    *   **노벨상 2회 수상:** 세계 최초로 노벨상을 두 번 수상했으며, 서로 다른 과학 분야(물리학상, 화학상)에서 수상한 유일한 인물입니다.\n",
       "        *   **1903년 노벨 물리학상:** 방사능 연구에 대한 공로 (피에르 퀴리, 앙리 베크렐과 공동 수상)\n",
       "        *   **1911년 노벨 화학상:** 폴로늄과 라듐 발견 및 순수 라듐 분리 공로\n",
       "\n",
       "이 세 과학자는 오늘날 우리가 아는 물리학의 기틀을 마련했으며, 그들의 발견은 여전히 우리 세상에 큰 영향을 미치고 있습니다.\"\"\"\n",
       "          ),\n",
       "        ],\n",
       "        role='model'\n",
       "      ),\n",
       "      finish_reason=<FinishReason.STOP: 'STOP'>,\n",
       "      index=0\n",
       "    ),\n",
       "  ],\n",
       "  model_version='gemini-2.5-pro',\n",
       "  response_id='fLuUaJO2DInVz7IPh9L6qAI',\n",
       "  sdk_http_response=HttpResponse(\n",
       "    headers=<dict len=11>\n",
       "  ),\n",
       "  usage_metadata=GenerateContentResponseUsageMetadata(\n",
       "    candidates_token_count=1002,\n",
       "    prompt_token_count=20,\n",
       "    prompt_tokens_details=[\n",
       "      ModalityTokenCount(\n",
       "        modality=<MediaModality.TEXT: 'TEXT'>,\n",
       "        token_count=20\n",
       "      ),\n",
       "    ],\n",
       "    thoughts_token_count=1541,\n",
       "    total_token_count=2563\n",
       "  )\n",
       ")"
      ]
     },
     "execution_count": 5,
     "metadata": {},
     "output_type": "execute_result"
    }
   ],
   "source": [
    "response"
   ]
  },
  {
   "cell_type": "markdown",
   "id": "9c4a29c8",
   "metadata": {},
   "source": [
    "### 토큰 사용량 확인하기"
   ]
  },
  {
   "cell_type": "code",
   "execution_count": 1,
   "id": "7f1dc7dc",
   "metadata": {},
   "outputs": [
    {
     "name": "stderr",
     "output_type": "stream",
     "text": [
      "Both GOOGLE_API_KEY and GEMINI_API_KEY are set. Using GOOGLE_API_KEY.\n"
     ]
    },
    {
     "name": "stdout",
     "output_type": "stream",
     "text": [
      "=== 생성된 텍스트 ===\n",
      "네, 가장 유명한 물리학자 세 명과 그들의 대표적인 업적을 한 가지씩 소개해 드리겠습니다.\n",
      "\n",
      "1.  **아이작 뉴턴 (Isaac Newton)**\n",
      "    *   **주요 업적: 만유인력의 법칙 (Law of Universal Gravitation)**\n",
      "        *   우주에 있는 모든 물체는 서로를 끌어당기는 힘(중력)이 있으며, 이 힘의 크기는 두 물체의 질량에 비례하고 거리의 제곱에 반비례한다는 것을 수학적으로 증명했습니다. 이는 사과가 땅에 떨어지는 이유와 행성이 태양 주위를 도는 이유를 같은 원리로 설명한 혁명적인 발견이었습니다.\n",
      "\n",
      "2.  **알베르트 아인슈타인 (Albert Einstein)**\n",
      "    *   **주요 업적: 상대성 이론 (Theory of Relativity)**\n",
      "        *   특히 그의 가장 유명한 공식인 **E=mc²** (질량-에너지 등가 원리)는 질량과 에너지가 서로 변환될 수 있는 본질적으로 같은 것임을 밝혔습니다. 이 아이디어는 시간, 공간, 중력에 대한 우리의 이해를 완전히 바꾸었고, 원자력 발전과 핵무기의 이론적 토대가 되었습니다.\n",
      "\n",
      "3.  **마리 퀴리 (Marie Curie)**\n",
      "    *   **주요 업적: 방사능 연구 및 새로운 원소 발견 (Research on Radioactivity and Discovery of New Elements)**\n",
      "        *   방사능(radioactivity)이라는 개념을 처음으로 정립했으며, 끈질긴 연구 끝에 남편 피에르 퀴리와 함께 새로운 방사성 원소인 **폴로늄(Polonium)과 라듐(Radium)**을 발견했습니다. 그녀는 노벨상을 두 번 수상한 최초의 인물이자, 서로 다른 과학 분야(물리학, 화학)에서 수상한 유일한 인물입니다.\n",
      "\n",
      "=== 토큰 사용량 정보 ===\n",
      "입력 토큰 수: 23\n",
      "생각 토큰 수: 741\n",
      "출력 토큰 수: 409\n",
      "전체 토큰 수: 1173\n"
     ]
    }
   ],
   "source": [
    "from google import genai\n",
    "from google.genai import types\n",
    "\n",
    "\n",
    "def print_gemini_token(response):\n",
    "    \"\"\"Gemini 응답의 토큰 사용량 정보를 출력하는 함수\"\"\"\n",
    "    print(\"=== 생성된 텍스트 ===\")\n",
    "    print(response.text)\n",
    "    print(\"\\n=== 토큰 사용량 정보 ===\")\n",
    "\n",
    "    # 토큰 사용량 확인\n",
    "    usage = response.usage_metadata\n",
    "    print(f\"입력 토큰 수: {usage.prompt_token_count}\")\n",
    "    print(f\"생각 토큰 수: {usage.thoughts_token_count}\")\n",
    "    print(f\"출력 토큰 수: {usage.candidates_token_count}\")\n",
    "    print(f\"전체 토큰 수: {usage.total_token_count}\")\n",
    "\n",
    "\n",
    "client = genai.Client()\n",
    "\n",
    "response = client.models.generate_content(\n",
    "    model=\"gemini-2.5-pro\",\n",
    "    contents=\"유명한 물리학자 세 명과 그들의 주요 업적을 하나씩만 알려주세요.\",\n",
    "    config=types.GenerateContentConfig(\n",
    "        thinking_config=types.ThinkingConfig(thinking_budget=1024)\n",
    "    ),\n",
    ")\n",
    "\n",
    "# 함수 사용\n",
    "print_gemini_token(response)"
   ]
  },
  {
   "cell_type": "code",
   "execution_count": null,
   "id": "e4e61c0f",
   "metadata": {},
   "outputs": [],
   "source": []
  }
 ],
 "metadata": {
  "kernelspec": {
   "display_name": "without",
   "language": "python",
   "name": "python3"
  },
  "language_info": {
   "codemirror_mode": {
    "name": "ipython",
    "version": 3
   },
   "file_extension": ".py",
   "mimetype": "text/x-python",
   "name": "python",
   "nbconvert_exporter": "python",
   "pygments_lexer": "ipython3",
   "version": "3.11.13"
  }
 },
 "nbformat": 4,
 "nbformat_minor": 5
}
