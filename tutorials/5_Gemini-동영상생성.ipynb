{
 "cells": [
  {
   "cell_type": "markdown",
   "id": "8ed37f0a",
   "metadata": {},
   "source": [
    "### Veo 3로 동영상 생성"
   ]
  },
  {
   "cell_type": "code",
   "execution_count": 3,
   "id": "b9d827f5",
   "metadata": {},
   "outputs": [
    {
     "name": "stderr",
     "output_type": "stream",
     "text": [
      "Both GOOGLE_API_KEY and GEMINI_API_KEY are set. Using GOOGLE_API_KEY.\n"
     ]
    },
    {
     "name": "stdout",
     "output_type": "stream",
     "text": [
      "Waiting for video generation to complete... (attempt 1/60)\n",
      "Waiting for video generation to complete... (attempt 2/60)\n",
      "Waiting for video generation to complete... (attempt 2/60)\n",
      "Waiting for video generation to complete... (attempt 3/60)\n",
      "Waiting for video generation to complete... (attempt 3/60)\n",
      "Waiting for video generation to complete... (attempt 4/60)\n",
      "Waiting for video generation to complete... (attempt 4/60)\n",
      "Waiting for video generation to complete... (attempt 5/60)\n",
      "Waiting for video generation to complete... (attempt 5/60)\n",
      "Waiting for video generation to complete... (attempt 6/60)\n",
      "Waiting for video generation to complete... (attempt 6/60)\n",
      "Waiting for video generation to complete... (attempt 7/60)\n",
      "Waiting for video generation to complete... (attempt 7/60)\n",
      "Generated video saved to dialogue_example.mp4\n",
      "Generated video saved to dialogue_example.mp4\n"
     ]
    }
   ],
   "source": [
    "import time\n",
    "from google import genai\n",
    "from google.genai import types\n",
    "\n",
    "client = genai.Client()\n",
    "\n",
    "# prompt = \"\"\"A close up of two people staring at a cryptic drawing on a wall, torchlight flickering.\n",
    "# A man murmurs, 'This must be it. That's the secret code.' The woman looks at him and whispering excitedly, 'What did you find?'\"\"\"\n",
    "prompt = \"\"\" 횃불이 깜빡이는 가운데, 두 사람이 벽에 그려진 의미심장한 그림을 클로즈업해서 쳐다보고 있다.\n",
    " 한 남자가 중얼거린다. \"이게 틀림없어. 저게 비밀 암호야.\" 여자가 흥분한 목소리로 속삭이며 그를 쳐다본다. \"어떻게 찾았은거야?\"\n",
    " 남자가 다시 대답한다. \"나는 다 알 수 있어. 이건 개꿈이거든\" \n",
    "\"\"\"\n",
    "\n",
    "try:\n",
    "    operation = client.models.generate_videos(\n",
    "        model=\"veo-3.0-generate-preview\",\n",
    "        prompt=prompt,\n",
    "    )\n",
    "\n",
    "    # Poll the operation status until the video is ready.\n",
    "    max_attempts = 60  # 최대 10분 대기 (10초씩 60번)\n",
    "    attempts = 0\n",
    "\n",
    "    while not operation.done and attempts < max_attempts:\n",
    "        print(\n",
    "            f\"Waiting for video generation to complete... (attempt {attempts + 1}/{max_attempts})\"\n",
    "        )\n",
    "        time.sleep(10)\n",
    "        operation = client.operations.get(operation)\n",
    "        attempts += 1\n",
    "\n",
    "    if not operation.done:\n",
    "        print(\"Video generation timed out after 10 minutes\")\n",
    "    elif operation.response is None:\n",
    "        print(\"Video generation completed but no response received\")\n",
    "        print(f\"Operation status: {operation}\")\n",
    "    elif (\n",
    "        not hasattr(operation.response, \"generated_videos\")\n",
    "        or not operation.response.generated_videos\n",
    "    ):\n",
    "        print(\"Video generation completed but no videos were generated\")\n",
    "        print(f\"Response: {operation.response}\")\n",
    "    else:\n",
    "        # Download the generated video.\n",
    "        generated_video = operation.response.generated_videos[0]\n",
    "        client.files.download(file=generated_video.video)\n",
    "        generated_video.video.save(\"dialogue_example.mp4\")\n",
    "        print(\"Generated video saved to dialogue_example.mp4\")\n",
    "\n",
    "except Exception as e:\n",
    "    print(f\"Error occurred during video generation: {e}\")\n",
    "    print(f\"Error type: {type(e).__name__}\")"
   ]
  },
  {
   "cell_type": "code",
   "execution_count": null,
   "id": "c6d3ca2f",
   "metadata": {},
   "outputs": [],
   "source": []
  }
 ],
 "metadata": {
  "kernelspec": {
   "display_name": "without",
   "language": "python",
   "name": "python3"
  },
  "language_info": {
   "codemirror_mode": {
    "name": "ipython",
    "version": 3
   },
   "file_extension": ".py",
   "mimetype": "text/x-python",
   "name": "python",
   "nbconvert_exporter": "python",
   "pygments_lexer": "ipython3",
   "version": "3.11.13"
  }
 },
 "nbformat": 4,
 "nbformat_minor": 5
}
