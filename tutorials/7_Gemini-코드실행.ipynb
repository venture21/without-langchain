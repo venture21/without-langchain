{
 "cells": [
  {
   "cell_type": "markdown",
   "id": "5b7c3a7a",
   "metadata": {},
   "source": [
    "### 코드 실행 사용 설정"
   ]
  },
  {
   "cell_type": "code",
   "execution_count": 1,
   "id": "66df6c6a",
   "metadata": {},
   "outputs": [
    {
     "name": "stderr",
     "output_type": "stream",
     "text": [
      "Both GOOGLE_API_KEY and GEMINI_API_KEY are set. Using GOOGLE_API_KEY.\n"
     ]
    },
    {
     "name": "stdout",
     "output_type": "stream",
     "text": [
      "1부터 100까지의 합을 계산하는 코드와 실행 결과입니다.\n",
      "\n",
      "### 계산 코드\n",
      "\n",
      "1부터 100까지의 합은 `sum()` 함수와 `range()` 함수를 사용하거나, 수학 공식을 이용하여 계산할 수 있습니다. 여기서는 두 가지 방법을 모두 사용해 보겠습니다.\n",
      "\n",
      "\n",
      "--------------------\n",
      "```python\n",
      "# 방법 1: sum() 함수와 range() 함수 사용\n",
      "sum_range = sum(range(1, 101))\n",
      "print(f\"sum()과 range()를 사용한 1부터 100까지의 합: {sum_range}\")\n",
      "\n",
      "# 방법 2: 수학 공식 (n * (n + 1) / 2) 사용\n",
      "n = 100\n",
      "sum_formula = n * (n + 1) // 2 # 정수 나눗셈을 위해 // 사용\n",
      "print(f\"수학 공식을 사용한 1부터 100까지의 합: {sum_formula}\")\n",
      "```\n",
      "--------------------\n",
      "\n",
      "\n",
      "### 코드 실행 및 확인\n",
      "\n",
      "생성된 코드를 실행하여 1부터 100까지의 합을 계산하고, 결과가 올바른지 확인합니다.\n",
      "\n",
      "\n",
      "--------------------\n",
      "# 방법 1: sum() 함수와 range() 함수 사용\n",
      "sum_range = sum(range(1, 101))\n",
      "print(f\"sum()과 range()를 사용한 1부터 100까지의 합: {sum_range}\")\n",
      "\n",
      "# 방법 2: 수학 공식 (n * (n + 1) / 2) 사용\n",
      "n = 100\n",
      "sum_formula = n * (n + 1) // 2 # 정수 나눗셈을 위해 // 사용\n",
      "print(f\"수학 공식을 사용한 1부터 100까지의 합: {sum_formula}\")\n",
      "\n",
      "--------------------\n",
      "sum()과 range()를 사용한 1부터 100까지의 합: 5050\n",
      "수학 공식을 사용한 1부터 100까지의 합: 5050\n",
      "\n",
      "### 결과 확인\n",
      "\n",
      "코드 실행 결과, `sum()` 함수와 `range()` 함수를 사용한 방법과 수학 공식을 사용한 방법 모두 **5050**이라는 동일한 값을 출력했습니다. 이는 1부터 100까지의 합이 올바르게 계산되었음을 의미합니다.\n",
      "\n",
      "수학적으로 1부터 n까지의 합은 `n * (n + 1) / 2` 공식으로 구할 수 있으며, n=100일 경우 `100 * (100 + 1) / 2 = 100 * 101 / 2 = 50 * 101 = 5050` 입니다. 계산이 올바르게 이루어졌습니다.\n",
      "--------------------\n"
     ]
    }
   ],
   "source": [
    "from google import genai\n",
    "from google.genai import types\n",
    "\n",
    "client = genai.Client()\n",
    "\n",
    "response = client.models.generate_content(\n",
    "    model=\"gemini-2.5-flash\",\n",
    "    contents=\"1-100까지의 합은 얼마일까?\"\n",
    "    \"계산을 위한 코드를 생성하고 파이썬 코드의 내용을 출력해줘. 그리고 코드를 실행하고, 올바르게 계산했는지 확인하세요\",\n",
    "    config=types.GenerateContentConfig(\n",
    "        tools=[types.Tool(code_execution=types.ToolCodeExecution)]\n",
    "    ),\n",
    ")\n",
    "\n",
    "for part in response.candidates[0].content.parts:\n",
    "    # text 부분 출력\n",
    "    if part.text is not None:\n",
    "        print(part.text)\n",
    "        print(\"-\" * 20)\n",
    "    # code_executable 부분 출력\n",
    "    if part.executable_code is not None:\n",
    "        print(part.executable_code.code)\n",
    "        print(\"-\" * 20)\n",
    "    # code_execution_result 부분 출력\n",
    "    if part.code_execution_result is not None:\n",
    "        print(part.code_execution_result.output)"
   ]
  },
  {
   "cell_type": "code",
   "execution_count": null,
   "id": "9989ea77",
   "metadata": {},
   "outputs": [],
   "source": []
  }
 ],
 "metadata": {
  "kernelspec": {
   "display_name": "without",
   "language": "python",
   "name": "python3"
  },
  "language_info": {
   "codemirror_mode": {
    "name": "ipython",
    "version": 3
   },
   "file_extension": ".py",
   "mimetype": "text/x-python",
   "name": "python",
   "nbconvert_exporter": "python",
   "pygments_lexer": "ipython3",
   "version": "3.11.13"
  }
 },
 "nbformat": 4,
 "nbformat_minor": 5
}
