{
 "cells": [
  {
   "cell_type": "markdown",
   "id": "a1a73bef",
   "metadata": {},
   "source": [
    "### Google AI Studio 동영상 이해(요약)"
   ]
  },
  {
   "cell_type": "markdown",
   "id": "59d1a621",
   "metadata": {},
   "source": [
    "참고영상 링크 : https://www.youtube.com/watch?v=E6tNKjkCDDc&t=13s"
   ]
  },
  {
   "cell_type": "code",
   "execution_count": 5,
   "id": "828d9711",
   "metadata": {},
   "outputs": [
    {
     "data": {
      "text/plain": [
       "True"
      ]
     },
     "execution_count": 5,
     "metadata": {},
     "output_type": "execute_result"
    }
   ],
   "source": [
    "import os\n",
    "from dotenv import load_dotenv\n",
    "from google import genai\n",
    "\n",
    "# .env 파일에서 환경변수 로드\n",
    "load_dotenv()"
   ]
  },
  {
   "cell_type": "code",
   "execution_count": 10,
   "id": "fa8112e8",
   "metadata": {},
   "outputs": [],
   "source": [
    "# Google AI API 키 설정\n",
    "api_key = os.getenv(\"GOOGLE_API_KEY\")\n",
    "\n",
    "# Only for videos of size <20Mb\n",
    "video_file_name = \"sand-dam.mp4\"\n",
    "model_name = \"models/gemini-2.5-flash\"\n",
    "prompt = \"이 비디오의 내용을 3개 문장으로 요약해 주세요.\"\n",
    "mime_type = \"video/mp4\""
   ]
  },
  {
   "cell_type": "code",
   "execution_count": 7,
   "id": "510b3f92",
   "metadata": {},
   "outputs": [
    {
     "name": "stderr",
     "output_type": "stream",
     "text": [
      "Both GOOGLE_API_KEY and GEMINI_API_KEY are set. Using GOOGLE_API_KEY.\n"
     ]
    },
    {
     "name": "stdout",
     "output_type": "stream",
     "text": [
      "강원도 산간 지역은 계곡 등 소규모 취수원에 의존하고 있어 가뭄 시 식수 부족을 겪습니다. 이에 국내 연구진이 국내 최초로 '샌드댐'(모래 저장형 댐)을 개발했는데, 이는 모래층에 물을 저장하여 증발과 결빙을 막고 안정적으로 물을 공급할 수 있는 시스템입니다. 샌드댐은 자연 여과 기능을 통해 수질을 개선하고 상수도 설치 비용의 10% 수준으로 건설할 수 있어, 전국 600여 물 소외 지역에도 적용될 것으로 기대됩니다.\n"
     ]
    }
   ],
   "source": [
    "from google.genai import types\n",
    "\n",
    "video_bytes = open(video_file_name, \"rb\").read()\n",
    "\n",
    "# 클라이언트 초기화\n",
    "client = genai.Client(api_key=api_key)\n",
    "response = client.models.generate_content(\n",
    "    model=model_name,\n",
    "    contents=types.Content(\n",
    "        parts=[\n",
    "            types.Part(inline_data=types.Blob(data=video_bytes, mime_type=mime_type)),\n",
    "            types.Part(text=prompt),\n",
    "        ]\n",
    "    ),\n",
    ")\n",
    "\n",
    "print(response.text)"
   ]
  },
  {
   "cell_type": "markdown",
   "id": "d6d4fc88",
   "metadata": {},
   "source": [
    "### Vertex AI Studio 동영상 이해(요약)"
   ]
  },
  {
   "cell_type": "code",
   "execution_count": null,
   "id": "da9fb13d",
   "metadata": {},
   "outputs": [],
   "source": [
    "# Vertex AI 클라이언트 초기화 (프로젝트 ID와 위치 설정)\n",
    "project_id = os.getenv(\"GOOGLE_CLOUD_PROJECT_ID\")  # .env 파일에 추가 필요\n",
    "location = \"us-central1\"  # 또는 원하는 리전\n",
    "model_name = \"gemini-2.5-flash\"  # Vertex AI 모델명 (models/ 접두사 제거)\n",
    "\n",
    "# 아래 내용은 동일\n",
    "# video_file_name = \"sand-dam.mp4\"\n",
    "# prompt = \"이 비디오의 내용을 3개 문장으로 요약해 주세요.\"\n",
    "# mime_type = \"video/mp4\""
   ]
  },
  {
   "cell_type": "code",
   "execution_count": 15,
   "id": "3927a20d",
   "metadata": {},
   "outputs": [
    {
     "name": "stderr",
     "output_type": "stream",
     "text": [
      "Both GOOGLE_API_KEY and GEMINI_API_KEY are set. Using GOOGLE_API_KEY.\n"
     ]
    },
    {
     "name": "stdout",
     "output_type": "stream",
     "text": [
      "=== Vertex AI 결과 (통합된 genai 라이브러리 사용) ===\n",
      "강원도 산간 지역 등 작은 하천에 의존하는 산골 마을들은 가뭄 때마다 식수 부족을 겪습니다.\n",
      "이를 해결하기 위해 국내 연구진이 모래와 자갈층에 물을 저장하는 방식의 국내 최초 '샌드댐'을 개발했습니다.\n",
      "이 샌드댐은 증발과 동결을 막아 안정적인 식수 공급이 가능하며, 자연 여과 기능으로 수질까지 개선해 물 부족 지역에 효과적인 대안이 될 것으로 기대됩니다.\n"
     ]
    }
   ],
   "source": [
    "# 통합된 google.genai를 사용한 Vertex AI 비디오 분석\n",
    "from google import genai\n",
    "from google.genai import types\n",
    "\n",
    "# Vertex AI 클라이언트 생성\n",
    "vertex_client = genai.Client(vertexai=True, project=project_id, location=location)\n",
    "\n",
    "video_bytes = open(video_file_name, \"rb\").read()\n",
    "\n",
    "# Vertex AI를 통한 컨텐츠 생성 (올바른 메시지 형식 사용)\n",
    "response = vertex_client.models.generate_content(\n",
    "    model=model_name,  # Vertex AI는 models/ 접두사 없음\n",
    "    contents=[\n",
    "        types.Content(\n",
    "            role=\"user\",\n",
    "            parts=[\n",
    "                types.Part(\n",
    "                    inline_data=types.Blob(data=video_bytes, mime_type=mime_type)\n",
    "                ),\n",
    "                types.Part(text=prompt),\n",
    "            ],\n",
    "        )\n",
    "    ],\n",
    ")\n",
    "\n",
    "print(\"=== Vertex AI 결과 (통합된 genai 라이브러리 사용) ===\")\n",
    "print(response.text)"
   ]
  },
  {
   "cell_type": "code",
   "execution_count": null,
   "id": "5393059c",
   "metadata": {},
   "outputs": [],
   "source": []
  }
 ],
 "metadata": {
  "kernelspec": {
   "display_name": "without",
   "language": "python",
   "name": "python3"
  },
  "language_info": {
   "codemirror_mode": {
    "name": "ipython",
    "version": 3
   },
   "file_extension": ".py",
   "mimetype": "text/x-python",
   "name": "python",
   "nbconvert_exporter": "python",
   "pygments_lexer": "ipython3",
   "version": "3.11.13"
  }
 },
 "nbformat": 4,
 "nbformat_minor": 5
}
