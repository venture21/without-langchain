{
 "cells": [
  {
   "cell_type": "code",
   "execution_count": 2,
   "id": "df8a31c2",
   "metadata": {},
   "outputs": [
    {
     "data": {
      "text/plain": [
       "True"
      ]
     },
     "execution_count": 2,
     "metadata": {},
     "output_type": "execute_result"
    }
   ],
   "source": [
    "from dotenv import load_dotenv\n",
    "\n",
    "load_dotenv()"
   ]
  },
  {
   "cell_type": "code",
   "execution_count": null,
   "id": "dd5bc134",
   "metadata": {},
   "outputs": [
    {
     "name": "stdout",
     "output_type": "stream",
     "text": [
      "2025년 8월 11일, 부산 강서구 명지 지역의 아이들을 위한 돌봄 시설인 '명지늘봄전용학교'가 개관식을 가졌습니다. 이날 오후 2시 30분에 열린 행사에는 박형준 부산시장이 참석하여 개관을 축하하고, 학생들과 학부모들에게 응원의 메시지를 전했습니다. 이 시설은 지역 아이들에게 안전하고 편안한 돌봄 환경을 제공하여, '아이 키우기 좋은 도시 부산'을 실현하는 데 기여할 것으로 기대됩니다. ([v.daum.net](https://v.daum.net/v/20240912074836101?utm_source=openai)) \n"
     ]
    }
   ],
   "source": [
    "from openai import OpenAI\n",
    "\n",
    "client = OpenAI()\n",
    "\n",
    "response = client.responses.create(\n",
    "    model=\"gpt-4o\",\n",
    "    tools=[{\"type\": \"web_search_preview\"}],\n",
    "    input=\"What was a positive news story from today? Please provide a summary of the article in korean.\",\n",
    ")\n",
    "\n",
    "print(response.output_text)"
   ]
  },
  {
   "cell_type": "code",
   "execution_count": 23,
   "id": "54743876",
   "metadata": {},
   "outputs": [
    {
     "data": {
      "text/plain": [
       "Response(id='resp_6899b0391bdc8196839d2f6f91b63f4f0ad99cfd018d7e35', created_at=1754902585.0, error=None, incomplete_details=None, instructions=None, metadata={}, model='gpt-4o-2024-08-06', object='response', output=[ResponseFunctionWebSearch(id='ws_6899b039ca2c819693f077e0fe0d70a40ad99cfd018d7e35', action=ActionSearch(query='positive news October 10 2023', type='search'), status='completed', type='web_search_call'), ResponseOutputMessage(id='msg_6899b03ced38819686f3918355d606a30ad99cfd018d7e35', content=[ResponseOutputText(annotations=[AnnotationURLCitation(end_index=292, start_index=220, title=\"'아이 키우기 좋은 도시 부산'…명지늘봄전용학교 오늘 개관식\", type='url_citation', url='https://v.daum.net/v/20240912074836101?utm_source=openai')], text=\"2025년 8월 11일, 부산 강서구 명지 지역의 아이들을 위한 돌봄 시설인 '명지늘봄전용학교'가 개관식을 가졌습니다. 이날 오후 2시 30분에 열린 행사에는 박형준 부산시장이 참석하여 개관을 축하하고, 학생들과 학부모들에게 응원의 메시지를 전했습니다. 이 시설은 지역 아이들에게 안전하고 편안한 돌봄 환경을 제공하여, '아이 키우기 좋은 도시 부산'을 실현하는 데 기여할 것으로 기대됩니다. ([v.daum.net](https://v.daum.net/v/20240912074836101?utm_source=openai)) \", type='output_text', logprobs=[])], role='assistant', status='completed', type='message')], parallel_tool_calls=True, temperature=1.0, tool_choice='auto', tools=[WebSearchTool(type='web_search_preview', search_context_size='medium', user_location=UserLocation(type='approximate', city=None, country='US', region=None, timezone=None))], top_p=1.0, background=False, max_output_tokens=None, max_tool_calls=None, previous_response_id=None, prompt=None, prompt_cache_key=None, reasoning=Reasoning(effort=None, generate_summary=None, summary=None), safety_identifier=None, service_tier='default', status='completed', text=ResponseTextConfig(format=ResponseFormatText(type='text'), verbosity='medium'), top_logprobs=0, truncation='disabled', usage=ResponseUsage(input_tokens=320, input_tokens_details=InputTokensDetails(cached_tokens=0), output_tokens=170, output_tokens_details=OutputTokensDetails(reasoning_tokens=0), total_tokens=490), user=None, store=True)"
      ]
     },
     "execution_count": 23,
     "metadata": {},
     "output_type": "execute_result"
    }
   ],
   "source": [
    "response"
   ]
  },
  {
   "cell_type": "code",
   "execution_count": 27,
   "id": "4136332f",
   "metadata": {},
   "outputs": [
    {
     "name": "stdout",
     "output_type": "stream",
     "text": [
      "=== 토큰 사용량 정보 ===\n",
      "Input Tokens:320\n",
      "Output Tokens:170\n",
      "Total Tokens:490\n"
     ]
    }
   ],
   "source": [
    "# response usage에서 토큰 정보 출력\n",
    "\n",
    "print(\"=== 토큰 사용량 정보 ===\")\n",
    "\n",
    "# usage 속성 확인\n",
    "# usage = response.usage\n",
    "print(\"Input Tokens:{}\".format(response.usage.input_tokens))\n",
    "print(\"Output Tokens:{}\".format(response.usage.output_tokens))\n",
    "print(\"Total Tokens:{}\".format(response.usage.total_tokens))"
   ]
  },
  {
   "cell_type": "code",
   "execution_count": null,
   "id": "4c8018b2",
   "metadata": {},
   "outputs": [],
   "source": []
  }
 ],
 "metadata": {
  "kernelspec": {
   "display_name": "without",
   "language": "python",
   "name": "python3"
  },
  "language_info": {
   "codemirror_mode": {
    "name": "ipython",
    "version": 3
   },
   "file_extension": ".py",
   "mimetype": "text/x-python",
   "name": "python",
   "nbconvert_exporter": "python",
   "pygments_lexer": "ipython3",
   "version": "3.11.13"
  }
 },
 "nbformat": 4,
 "nbformat_minor": 5
}
